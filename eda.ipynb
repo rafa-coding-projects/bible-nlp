{
 "cells": [
  {
   "cell_type": "code",
   "execution_count": 16,
   "metadata": {},
   "outputs": [],
   "source": [
    "from bible_prep import BibleExtractor\n",
    "from plotly import graph_objs as go\n",
    "from typing import List, Dict"
   ]
  },
  {
   "cell_type": "markdown",
   "metadata": {},
   "source": [
    "Now that we have our Bible extractor setup, let's check the distribution of chapters per book of the bible."
   ]
  },
  {
   "cell_type": "code",
   "execution_count": 2,
   "metadata": {},
   "outputs": [
    {
     "data": {
      "text/plain": [
       "{5693: 'Genesis Chapter 1',\n",
       " 11129: 'Genesis Chapter 2',\n",
       " 15239: 'Genesis Chapter 3',\n",
       " 19929: 'Genesis Chapter 4',\n",
       " 25055: 'Genesis Chapter 5',\n",
       " 28188: 'Genesis Chapter 6',\n",
       " 33080: 'Genesis Chapter 7',\n",
       " 36471: 'Genesis Chapter 8',\n",
       " 40214: 'Genesis Chapter 9',\n",
       " 44743: 'Genesis Chapter 10',\n",
       " 48209: 'Genesis Chapter 11',\n",
       " 51880: 'Genesis Chapter 12',\n",
       " 55135: 'Genesis Chapter 13',\n",
       " 57721: 'Genesis Chapter 14',\n",
       " 61637: 'Genesis Chapter 15',\n",
       " 64382: 'Genesis Chapter 16',\n",
       " 67003: 'Genesis Chapter 17',\n",
       " 70865: 'Genesis Chapter 18',\n",
       " 76065: 'Genesis Chapter 19',\n",
       " 82121: 'Genesis Chapter 20',\n",
       " 84997: 'Genesis Chapter 21',\n",
       " 89146: 'Genesis Chapter 22',\n",
       " 92838: 'Genesis Chapter 23',\n",
       " 95844: 'Genesis Chapter 24',\n",
       " 105842: 'Genesis Chapter 25',\n",
       " 110099: 'Genesis Chapter 26',\n",
       " 115222: 'Genesis Chapter 27',\n",
       " 122281: 'Genesis Chapter 28',\n",
       " 125639: 'Genesis Chapter 29',\n",
       " 130203: 'Genesis Chapter 30',\n",
       " 136364: 'Genesis Chapter 31',\n",
       " 144387: 'Genesis Chapter 32',\n",
       " 149435: 'Genesis Chapter 33',\n",
       " 152394: 'Genesis Chapter 34',\n",
       " 156678: 'Genesis Chapter 35',\n",
       " 160844: 'Genesis Chapter 36',\n",
       " 165961: 'Genesis Chapter 37',\n",
       " 171991: 'Genesis Chapter 38',\n",
       " 176465: 'Genesis Chapter 39',\n",
       " 179733: 'Genesis Chapter 40',\n",
       " 183515: 'Genesis Chapter 41',\n",
       " 190864: 'Genesis Chapter 42',\n",
       " 196666: 'Genesis Chapter 43',\n",
       " 201931: 'Genesis Chapter 44',\n",
       " 207269: 'Genesis Chapter 45',\n",
       " 211526: 'Genesis Chapter 46',\n",
       " 215839: 'Genesis Chapter 47',\n",
       " 221659: 'Genesis Chapter 48',\n",
       " 225378: 'Genesis Chapter 49',\n",
       " 233105: 'Genesis Chapter 50',\n",
       " 237266: 'Exodus Chapter 1',\n",
       " 240246: 'Exodus Chapter 2',\n",
       " 244799: 'Exodus Chapter 3',\n",
       " 249440: 'Exodus Chapter 4',\n",
       " 254333: 'Exodus Chapter 5',\n",
       " 257680: 'Exodus Chapter 6',\n",
       " 262547: 'Exodus Chapter 7',\n",
       " 266866: 'Exodus Chapter 8',\n",
       " 273225: 'Exodus Chapter 9',\n",
       " 278827: 'Exodus Chapter 10',\n",
       " 283762: 'Exodus Chapter 11',\n",
       " 285594: 'Exodus Chapter 12',\n",
       " 294275: 'Exodus Chapter 13',\n",
       " 298353: 'Exodus Chapter 14',\n",
       " 303724: 'Exodus Chapter 15',\n",
       " 307781: 'Exodus Chapter 16',\n",
       " 313636: 'Exodus Chapter 17',\n",
       " 316285: 'Exodus Chapter 18',\n",
       " 320277: 'Exodus Chapter 19',\n",
       " 324483: 'Exodus Chapter 20',\n",
       " 328309: 'Exodus Chapter 21',\n",
       " 333017: 'Exodus Chapter 22',\n",
       " 337431: 'Exodus Chapter 23',\n",
       " 342215: 'Exodus Chapter 24',\n",
       " 345147: 'Exodus Chapter 25',\n",
       " 351270: 'Exodus Chapter 26',\n",
       " 356887: 'Exodus Chapter 27',\n",
       " 360120: 'Exodus Chapter 28',\n",
       " 367425: 'Exodus Chapter 29',\n",
       " 374593: 'Exodus Chapter 30',\n",
       " 380266: 'Exodus Chapter 31',\n",
       " 382857: 'Exodus Chapter 32',\n",
       " 388923: 'Exodus Chapter 33',\n",
       " 393499: 'Exodus Chapter 34',\n",
       " 399325: 'Exodus Chapter 35',\n",
       " 403702: 'Exodus Chapter 36',\n",
       " 408638: 'Exodus Chapter 37',\n",
       " 412450: 'Exodus Chapter 38',\n",
       " 416940: 'Exodus Chapter 39',\n",
       " 421834: 'Exodus Chapter 40',\n",
       " 426023: 'Leviticus Chapter 1',\n",
       " 429839: 'Leviticus Chapter 2',\n",
       " 432684: 'Leviticus Chapter 3',\n",
       " 435834: 'Leviticus Chapter 4',\n",
       " 441579: 'Leviticus Chapter 5',\n",
       " 444766: 'Leviticus Chapter 6',\n",
       " 449460: 'Leviticus Chapter 7',\n",
       " 454837: 'Leviticus Chapter 8',\n",
       " 460068: 'Leviticus Chapter 9',\n",
       " 463476: 'Leviticus Chapter 10',\n",
       " 467230: 'Leviticus Chapter 11',\n",
       " 474449: 'Leviticus Chapter 12',\n",
       " 475967: 'Leviticus Chapter 13',\n",
       " 483868: 'Leviticus Chapter 14',\n",
       " 493373: 'Leviticus Chapter 15',\n",
       " 498177: 'Leviticus Chapter 16',\n",
       " 504208: 'Leviticus Chapter 17',\n",
       " 507711: 'Leviticus Chapter 18',\n",
       " 511908: 'Leviticus Chapter 19',\n",
       " 517280: 'Leviticus Chapter 20',\n",
       " 521918: 'Leviticus Chapter 21',\n",
       " 525298: 'Leviticus Chapter 22',\n",
       " 530496: 'Leviticus Chapter 23',\n",
       " 537131: 'Leviticus Chapter 24',\n",
       " 540193: 'Leviticus Chapter 25',\n",
       " 547770: 'Leviticus Chapter 26',\n",
       " 554492: 'Leviticus Chapter 27',\n",
       " 559687: 'Numbers Chapter 1',\n",
       " 566122: 'Numbers Chapter 2',\n",
       " 570179: 'Numbers Chapter 3',\n",
       " 576519: 'Numbers Chapter 4',\n",
       " 583566: 'Numbers Chapter 5',\n",
       " 588517: 'Numbers Chapter 6',\n",
       " 592738: 'Numbers Chapter 7',\n",
       " 603213: 'Numbers Chapter 8',\n",
       " 607613: 'Numbers Chapter 9',\n",
       " 611670: 'Numbers Chapter 10',\n",
       " 616389: 'Numbers Chapter 11',\n",
       " 623058: 'Numbers Chapter 12',\n",
       " 625760: 'Numbers Chapter 13',\n",
       " 630223: 'Numbers Chapter 14',\n",
       " 636945: 'Numbers Chapter 15',\n",
       " 641923: 'Numbers Chapter 16',\n",
       " 649719: 'Numbers Chapter 17',\n",
       " 651894: 'Numbers Chapter 18',\n",
       " 658255: 'Numbers Chapter 19',\n",
       " 662392: 'Numbers Chapter 20',\n",
       " 667666: 'Numbers Chapter 21',\n",
       " 673592: 'Numbers Chapter 22',\n",
       " 680346: 'Numbers Chapter 23',\n",
       " 684397: 'Numbers Chapter 24',\n",
       " 688139: 'Numbers Chapter 25',\n",
       " 690847: 'Numbers Chapter 26',\n",
       " 699282: 'Numbers Chapter 27',\n",
       " 702417: 'Numbers Chapter 28',\n",
       " 706543: 'Numbers Chapter 29',\n",
       " 711863: 'Numbers Chapter 30',\n",
       " 714445: 'Numbers Chapter 31',\n",
       " 721232: 'Numbers Chapter 32',\n",
       " 727056: 'Numbers Chapter 33',\n",
       " 732744: 'Numbers Chapter 34',\n",
       " 736347: 'Numbers Chapter 35',\n",
       " 741054: 'Numbers Chapter 36',\n",
       " 743558: 'Deuteronomy Chapter 1',\n",
       " 750354: 'Deuteronomy Chapter 2',\n",
       " 756137: 'Deuteronomy Chapter 3',\n",
       " 760731: 'Deuteronomy Chapter 4',\n",
       " 768786: 'Deuteronomy Chapter 5',\n",
       " 773649: 'Deuteronomy Chapter 6',\n",
       " 777285: 'Deuteronomy Chapter 7',\n",
       " 782083: 'Deuteronomy Chapter 8',\n",
       " 785679: 'Deuteronomy Chapter 9',\n",
       " 790849: 'Deuteronomy Chapter 10',\n",
       " 794412: 'Deuteronomy Chapter 11',\n",
       " 799315: 'Deuteronomy Chapter 12',\n",
       " 805194: 'Deuteronomy Chapter 13',\n",
       " 808734: 'Deuteronomy Chapter 14',\n",
       " 812629: 'Deuteronomy Chapter 15',\n",
       " 816864: 'Deuteronomy Chapter 16',\n",
       " 820911: 'Deuteronomy Chapter 17',\n",
       " 825077: 'Deuteronomy Chapter 18',\n",
       " 828689: 'Deuteronomy Chapter 19',\n",
       " 832283: 'Deuteronomy Chapter 20',\n",
       " 835902: 'Deuteronomy Chapter 21',\n",
       " 839921: 'Deuteronomy Chapter 22',\n",
       " 845131: 'Deuteronomy Chapter 23',\n",
       " 849589: 'Deuteronomy Chapter 24',\n",
       " 853365: 'Deuteronomy Chapter 25',\n",
       " 856983: 'Deuteronomy Chapter 26',\n",
       " 860502: 'Deuteronomy Chapter 27',\n",
       " 863967: 'Deuteronomy Chapter 28',\n",
       " 875577: 'Deuteronomy Chapter 29',\n",
       " 881033: 'Deuteronomy Chapter 30',\n",
       " 884633: 'Deuteronomy Chapter 31',\n",
       " 890490: 'Deuteronomy Chapter 32',\n",
       " 897922: 'Deuteronomy Chapter 33',\n",
       " 903162: 'Deuteronomy Chapter 34',\n",
       " 906275: 'Josue Chapter 1',\n",
       " 909513: 'Josue Chapter 2',\n",
       " 913636: 'Josue Chapter 3',\n",
       " 916777: 'Josue Chapter 4',\n",
       " 920431: 'Josue Chapter 5',\n",
       " 923854: 'Josue Chapter 6',\n",
       " 928867: 'Josue Chapter 7',\n",
       " 934081: 'Josue Chapter 8',\n",
       " 940528: 'Josue Chapter 9',\n",
       " 945081: 'Josue Chapter 10',\n",
       " 953130: 'Josue Chapter 11',\n",
       " 957471: 'Josue Chapter 12',\n",
       " 960350: 'Josue Chapter 13',\n",
       " 965803: 'Josue Chapter 14',\n",
       " 968611: 'Josue Chapter 15',\n",
       " 974942: 'Josue Chapter 16',\n",
       " 976721: 'Josue Chapter 17',\n",
       " 980740: 'Josue Chapter 18',\n",
       " 985274: 'Josue Chapter 19',\n",
       " 990855: 'Josue Chapter 20',\n",
       " 992695: 'Josue Chapter 21',\n",
       " 997981: 'Josue Chapter 22',\n",
       " 1004657: 'Josue Chapter 23',\n",
       " 1007661: 'Josue Chapter 24',\n",
       " 1014376: 'Judges Chapter 1',\n",
       " 1021211: 'Judges Chapter 2',\n",
       " 1025700: 'Judges Chapter 3',\n",
       " 1030945: 'Judges Chapter 4',\n",
       " 1035338: 'Judges Chapter 5',\n",
       " 1041071: 'Judges Chapter 6',\n",
       " 1047916: 'Judges Chapter 7',\n",
       " 1054163: 'Judges Chapter 8',\n",
       " 1060564: 'Judges Chapter 9',\n",
       " 1070645: 'Judges Chapter 10',\n",
       " 1073857: 'Judges Chapter 11',\n",
       " 1082430: 'Judges Chapter 12',\n",
       " 1084908: 'Judges Chapter 13',\n",
       " 1089824: 'Judges Chapter 14',\n",
       " 1094122: 'Judges Chapter 15',\n",
       " 1098367: 'Judges Chapter 16',\n",
       " 1105679: 'Judges Chapter 17',\n",
       " 1107947: 'Judges Chapter 18',\n",
       " 1113519: 'Judges Chapter 19',\n",
       " 1119893: 'Judges Chapter 20',\n",
       " 1129149: 'Judges Chapter 21',\n",
       " 1133750: 'Ruth Chapter 1',\n",
       " 1138044: 'Ruth Chapter 2',\n",
       " 1142236: 'Ruth Chapter 3',\n",
       " 1145519: 'Ruth Chapter 4',\n",
       " 1149932: '1 Kings Chapter 1',\n",
       " 1154633: '1 Kings Chapter 2',\n",
       " 1162027: '1 Kings Chapter 3',\n",
       " 1165144: '1 Kings Chapter 4',\n",
       " 1170065: '1 Kings Chapter 5',\n",
       " 1172737: '1 Kings Chapter 6',\n",
       " 1177099: '1 Kings Chapter 7',\n",
       " 1180363: '1 Kings Chapter 8',\n",
       " 1183861: '1 Kings Chapter 9',\n",
       " 1190353: '1 Kings Chapter 10',\n",
       " 1196232: '1 Kings Chapter 11',\n",
       " 1199037: '1 Kings Chapter 12',\n",
       " 1203477: '1 Kings Chapter 13',\n",
       " 1207893: '1 Kings Chapter 14',\n",
       " 1217842: '1 Kings Chapter 15',\n",
       " 1224229: '1 Kings Chapter 16',\n",
       " 1228275: '1 Kings Chapter 17',\n",
       " 1238167: '1 Kings Chapter 18',\n",
       " 1243019: '1 Kings Chapter 19',\n",
       " 1247630: '1 Kings Chapter 20',\n",
       " 1255383: '1 Kings Chapter 21',\n",
       " 1259229: '1 Kings Chapter 22',\n",
       " 1263662: '1 Kings Chapter 23',\n",
       " 1268791: '1 Kings Chapter 24',\n",
       " 1273141: '1 Kings Chapter 25',\n",
       " 1281645: '1 Kings Chapter 26',\n",
       " 1286479: '1 Kings Chapter 27',\n",
       " 1289187: '1 Kings Chapter 28',\n",
       " 1294355: '1 Kings Chapter 29',\n",
       " 1296726: '1 Kings Chapter 30',\n",
       " 1302136: '1 Kings Chapter 31',\n",
       " 1304417: '2 Kings Chapter 1',\n",
       " 1308559: '2 Kings Chapter 2',\n",
       " 1314077: '2 Kings Chapter 3',\n",
       " 1320681: '2 Kings Chapter 4',\n",
       " 1323143: '2 Kings Chapter 5',\n",
       " 1327153: '2 Kings Chapter 6',\n",
       " 1331343: '2 Kings Chapter 7',\n",
       " 1336489: '2 Kings Chapter 8',\n",
       " 1339494: '2 Kings Chapter 9',\n",
       " 1341703: '2 Kings Chapter 10',\n",
       " 1345357: '2 Kings Chapter 11',\n",
       " 1350066: '2 Kings Chapter 12',\n",
       " 1356289: '2 Kings Chapter 13',\n",
       " 1363009: '2 Kings Chapter 14',\n",
       " 1369186: '2 Kings Chapter 15',\n",
       " 1375448: '2 Kings Chapter 16',\n",
       " 1379994: '2 Kings Chapter 17',\n",
       " 1385643: '2 Kings Chapter 18',\n",
       " 1392186: '2 Kings Chapter 19',\n",
       " 1400190: '2 Kings Chapter 20',\n",
       " 1405004: '2 Kings Chapter 21',\n",
       " 1409820: '2 Kings Chapter 22',\n",
       " 1415205: '2 Kings Chapter 23',\n",
       " 1421252: '2 Kings Chapter 24',\n",
       " 1427056: '3 Kings Chapter 1',\n",
       " 1435334: '3 Kings Chapter 2',\n",
       " 1443740: '3 Kings Chapter 3',\n",
       " 1449030: '3 Kings Chapter 4',\n",
       " 1453598: '3 Kings Chapter 5',\n",
       " 1456704: '3 Kings Chapter 6',\n",
       " 1463227: '3 Kings Chapter 7',\n",
       " 1472155: '3 Kings Chapter 8',\n",
       " 1484580: '3 Kings Chapter 9',\n",
       " 1489513: '3 Kings Chapter 10',\n",
       " 1494481: '3 Kings Chapter 11',\n",
       " 1501953: '3 Kings Chapter 12',\n",
       " 1508434: '3 Kings Chapter 13',\n",
       " 1515023: '3 Kings Chapter 14',\n",
       " 1521074: '3 Kings Chapter 15',\n",
       " 1527299: '3 Kings Chapter 16',\n",
       " 1533295: '3 Kings Chapter 17',\n",
       " 1537192: '3 Kings Chapter 18',\n",
       " 1544783: '3 Kings Chapter 19',\n",
       " 1550496: '3 Kings Chapter 20',\n",
       " 1558658: '3 Kings Chapter 21',\n",
       " 1564195: '3 Kings Chapter 22',\n",
       " 1574140: '4 Kings Chapter 1',\n",
       " 1578208: '4 Kings Chapter 2',\n",
       " 1583997: '4 Kings Chapter 3',\n",
       " 1589035: '4 Kings Chapter 4',\n",
       " 1597079: '4 Kings Chapter 5',\n",
       " 1603098: '4 Kings Chapter 6',\n",
       " 1609423: '4 Kings Chapter 7',\n",
       " 1613872: '4 Kings Chapter 8',\n",
       " 1619818: '4 Kings Chapter 9',\n",
       " 1626676: '4 Kings Chapter 10',\n",
       " 1633501: '4 Kings Chapter 11',\n",
       " 1637532: '4 Kings Chapter 12',\n",
       " 1641778: '4 Kings Chapter 13',\n",
       " 1646617: '4 Kings Chapter 14',\n",
       " 1651784: '4 Kings Chapter 15',\n",
       " 1658247: '4 Kings Chapter 16',\n",
       " 1662292: '4 Kings Chapter 17',\n",
       " 1669888: '4 Kings Chapter 18',\n",
       " 1676898: '4 Kings Chapter 19',\n",
       " 1684230: '4 Kings Chapter 20',\n",
       " 1688268: '4 Kings Chapter 21',\n",
       " 1692665: '4 Kings Chapter 22',\n",
       " 1696865: '4 Kings Chapter 23',\n",
       " 1705369: '4 Kings Chapter 24',\n",
       " 1708892: '4 Kings Chapter 25',\n",
       " 1715281: '1 Paralipomenon Chapter 1',\n",
       " 1719792: '1 Paralipomenon Chapter 2',\n",
       " 1725727: '1 Paralipomenon Chapter 3',\n",
       " 1728145: '1 Paralipomenon Chapter 4',\n",
       " 1733789: '1 Paralipomenon Chapter 5',\n",
       " 1737949: '1 Paralipomenon Chapter 6',\n",
       " 1745649: '1 Paralipomenon Chapter 7',\n",
       " 1750536: '1 Paralipomenon Chapter 8',\n",
       " 1753777: '1 Paralipomenon Chapter 9',\n",
       " 1759559: '1 Paralipomenon Chapter 10',\n",
       " 1761757: '1 Paralipomenon Chapter 11',\n",
       " 1767436: '1 Paralipomenon Chapter 12',\n",
       " 1773062: '1 Paralipomenon Chapter 13',\n",
       " 1775209: '1 Paralipomenon Chapter 14',\n",
       " 1777352: '1 Paralipomenon Chapter 15',\n",
       " 1781795: '1 Paralipomenon Chapter 16',\n",
       " 1786920: '1 Paralipomenon Chapter 17',\n",
       " 1791131: '1 Paralipomenon Chapter 18',\n",
       " 1793677: '1 Paralipomenon Chapter 19',\n",
       " 1797297: '1 Paralipomenon Chapter 20',\n",
       " 1798970: '1 Paralipomenon Chapter 21',\n",
       " 1804816: '1 Paralipomenon Chapter 22',\n",
       " 1808282: '1 Paralipomenon Chapter 23',\n",
       " 1812474: '1 Paralipomenon Chapter 24',\n",
       " 1815911: '1 Paralipomenon Chapter 25',\n",
       " 1819236: '1 Paralipomenon Chapter 26',\n",
       " 1823863: '1 Paralipomenon Chapter 27',\n",
       " 1828715: '1 Paralipomenon Chapter 28',\n",
       " 1833216: '1 Paralipomenon Chapter 29',\n",
       " 1838847: '2 Paralipomenon Chapter 1',\n",
       " 1841873: '2 Paralipomenon Chapter 2',\n",
       " 1845584: '2 Paralipomenon Chapter 3',\n",
       " 1848607: '2 Paralipomenon Chapter 4',\n",
       " 1852044: '2 Paralipomenon Chapter 5',\n",
       " 1855027: '2 Paralipomenon Chapter 6',\n",
       " 1862686: '2 Paralipomenon Chapter 7',\n",
       " 1867043: '2 Paralipomenon Chapter 8',\n",
       " 1870085: '2 Paralipomenon Chapter 9',\n",
       " 1875169: '2 Paralipomenon Chapter 10',\n",
       " 1878165: '2 Paralipomenon Chapter 11',\n",
       " 1881267: '2 Paralipomenon Chapter 12',\n",
       " 1884089: '2 Paralipomenon Chapter 13',\n",
       " 1888160: '2 Paralipomenon Chapter 14',\n",
       " 1890730: '2 Paralipomenon Chapter 15',\n",
       " 1893783: '2 Paralipomenon Chapter 16',\n",
       " 1896675: '2 Paralipomenon Chapter 17',\n",
       " 1899420: '2 Paralipomenon Chapter 18',\n",
       " 1905226: '2 Paralipomenon Chapter 19',\n",
       " 1907446: '2 Paralipomenon Chapter 20',\n",
       " 1914514: '2 Paralipomenon Chapter 21',\n",
       " 1918262: '2 Paralipomenon Chapter 22',\n",
       " 1920804: '2 Paralipomenon Chapter 23',\n",
       " 1925562: '2 Paralipomenon Chapter 24',\n",
       " 1930928: '2 Paralipomenon Chapter 25',\n",
       " 1936119: '2 Paralipomenon Chapter 26',\n",
       " 1940435: '2 Paralipomenon Chapter 27',\n",
       " 1941835: '2 Paralipomenon Chapter 28',\n",
       " 1947132: '2 Paralipomenon Chapter 29',\n",
       " 1953599: '2 Paralipomenon Chapter 30',\n",
       " 1958744: '2 Paralipomenon Chapter 31',\n",
       " 1963173: '2 Paralipomenon Chapter 32',\n",
       " 1969530: '2 Paralipomenon Chapter 33',\n",
       " 1973932: '2 Paralipomenon Chapter 34',\n",
       " 1980503: '2 Paralipomenon Chapter 35',\n",
       " 1985761: '2 Paralipomenon Chapter 36',\n",
       " 1990405: '1 Esdras Chapter 1',\n",
       " 1992671: '1 Esdras Chapter 2',\n",
       " 1999184: '1 Esdras Chapter 3',\n",
       " 2002421: '1 Esdras Chapter 4',\n",
       " 2007047: '1 Esdras Chapter 5',\n",
       " 2010478: '1 Esdras Chapter 6',\n",
       " 2014949: '1 Esdras Chapter 7',\n",
       " 2020000: '1 Esdras Chapter 8',\n",
       " 2025870: '1 Esdras Chapter 9',\n",
       " 2029779: '1 Esdras Chapter 10',\n",
       " 2035833: '2 Esdras Chapter 1',\n",
       " 2038121: '2 Esdras Chapter 2',\n",
       " 2042123: '2 Esdras Chapter 3',\n",
       " 2047158: '2 Esdras Chapter 4',\n",
       " 2051012: '2 Esdras Chapter 5',\n",
       " 2054818: '2 Esdras Chapter 6',\n",
       " 2058194: '2 Esdras Chapter 7',\n",
       " 2065765: '2 Esdras Chapter 8',\n",
       " 2069786: '2 Esdras Chapter 9',\n",
       " 2078317: '2 Esdras Chapter 10',\n",
       " 2082440: '2 Esdras Chapter 11',\n",
       " 2087088: '2 Esdras Chapter 12',\n",
       " 2093105: '2 Esdras Chapter 13',\n",
       " 2099319: 'Tobias Chapter 1',\n",
       " 2102538: 'Tobias Chapter 2',\n",
       " 2105678: 'Tobias Chapter 3',\n",
       " 2109290: 'Tobias Chapter 4',\n",
       " 2112065: 'Tobias Chapter 5',\n",
       " 2115870: 'Tobias Chapter 6',\n",
       " 2119712: 'Tobias Chapter 7',\n",
       " 2122327: 'Tobias Chapter 8',\n",
       " 2125559: 'Tobias Chapter 9',\n",
       " 2127393: 'Tobias Chapter 10',\n",
       " 2129666: 'Tobias Chapter 11',\n",
       " 2132912: 'Tobias Chapter 12',\n",
       " 2135845: 'Tobias Chapter 13',\n",
       " 2139052: 'Tobias Chapter 14',\n",
       " 2142367: 'Judith Chapter 1',\n",
       " 2144575: 'Judith Chapter 2',\n",
       " 2147392: 'Judith Chapter 3',\n",
       " 2149533: 'Judith Chapter 4',\n",
       " 2152194: 'Judith Chapter 5',\n",
       " 2157350: 'Judith Chapter 6',\n",
       " 2161480: 'Judith Chapter 7',\n",
       " 2166027: 'Judith Chapter 8',\n",
       " 2171599: 'Judith Chapter 9',\n",
       " 2175017: 'Judith Chapter 10',\n",
       " 2178866: 'Judith Chapter 11',\n",
       " 2182124: 'Judith Chapter 12',\n",
       " 2184977: 'Judith Chapter 13',\n",
       " 2189882: 'Judith Chapter 14',\n",
       " 2192731: 'Judith Chapter 15',\n",
       " 2195472: 'Judith Chapter 16',\n",
       " 2199993: 'Esther Chapter 1',\n",
       " 2204608: 'Esther Chapter 2',\n",
       " 2209755: 'Esther Chapter 3',\n",
       " 2213093: 'Esther Chapter 4',\n",
       " 2216132: 'Esther Chapter 5',\n",
       " 2218935: 'Esther Chapter 6',\n",
       " 2221813: 'Esther Chapter 7',\n",
       " 2223948: 'Esther Chapter 8',\n",
       " 2227796: 'Esther Chapter 9',\n",
       " 2234430: 'Esther Chapter 10',\n",
       " 2236631: 'Esther Chapter 11',\n",
       " 2238499: 'Esther Chapter 12',\n",
       " 2239452: 'Esther Chapter 13',\n",
       " 2242573: 'Esther Chapter 14',\n",
       " 2245601: 'Esther Chapter 15',\n",
       " 2248064: 'Esther Chapter 16',\n",
       " 2252681: 'Job Chapter 1',\n",
       " 2257123: 'Job Chapter 2',\n",
       " 2259226: 'Job Chapter 3',\n",
       " 2261876: 'Job Chapter 4',\n",
       " 2264147: 'Job Chapter 5',\n",
       " 2266838: 'Job Chapter 6',\n",
       " 2270083: 'Job Chapter 7',\n",
       " 2272283: 'Job Chapter 8',\n",
       " 2274436: 'Job Chapter 9',\n",
       " 2277888: 'Job Chapter 10',\n",
       " 2280219: 'Job Chapter 11',\n",
       " 2282437: 'Job Chapter 12',\n",
       " 2284929: 'Job Chapter 13',\n",
       " 2287554: 'Job Chapter 14',\n",
       " 2290225: 'Job Chapter 15',\n",
       " 2294070: 'Job Chapter 16',\n",
       " 2296466: 'Job Chapter 17',\n",
       " 2298171: 'Job Chapter 18',\n",
       " 2300243: 'Job Chapter 19',\n",
       " 2304053: 'Job Chapter 20',\n",
       " 2307323: 'Job Chapter 21',\n",
       " 2311109: 'Job Chapter 22',\n",
       " 2314128: 'Job Chapter 23',\n",
       " 2315888: 'Job Chapter 24',\n",
       " 2318964: 'Job Chapter 25',\n",
       " 2319581: 'Job Chapter 26',\n",
       " 2321386: 'Job Chapter 27',\n",
       " 2323773: 'Job Chapter 28',\n",
       " 2326637: 'Job Chapter 29',\n",
       " 2329058: 'Job Chapter 30',\n",
       " 2332589: 'Job Chapter 31',\n",
       " 2336876: 'Job Chapter 32',\n",
       " 2339577: 'Job Chapter 33',\n",
       " 2342831: 'Job Chapter 34',\n",
       " 2346588: 'Job Chapter 35',\n",
       " 2348206: 'Job Chapter 36',\n",
       " 2351678: 'Job Chapter 37',\n",
       " 2354699: 'Job Chapter 38',\n",
       " 2359120: 'Job Chapter 39',\n",
       " 2363025: 'Job Chapter 40',\n",
       " 2366049: 'Job Chapter 41',\n",
       " 2368971: 'Job Chapter 42',\n",
       " 2371806: 'Psalms Chapter 1',\n",
       " 2372660: 'Psalms Chapter 2',\n",
       " 2373986: 'Psalms Chapter 3',\n",
       " 2374952: 'Psalms Chapter 4',\n",
       " 2376622: 'Psalms Chapter 5',\n",
       " 2378253: 'Psalms Chapter 6',\n",
       " 2379782: 'Psalms Chapter 7',\n",
       " 2381926: 'Psalms Chapter 8',\n",
       " 2383151: 'Psalms Chapter 9',\n",
       " 2386018: 'Psalm Chapter 10',\n",
       " 2388195: 'Psalms Chapter 10',\n",
       " 2389176: 'Psalms Chapter 11',\n",
       " 2390245: 'Psalms Chapter 12',\n",
       " 2391009: 'Psalms Chapter 13',\n",
       " 2392393: 'Psalms Chapter 14',\n",
       " 2393146: 'Psalms Chapter 15',\n",
       " 2394726: 'Psalms Chapter 16',\n",
       " 2397374: 'Psalms Chapter 17',\n",
       " 2403006: 'Psalms Chapter 18',\n",
       " 2404816: 'Psalms Chapter 19',\n",
       " 2405985: 'Psalms Chapter 20',\n",
       " 2407946: 'Psalms Chapter 21',\n",
       " 2411591: 'Psalms Chapter 22',\n",
       " 2412502: 'Psalms Chapter 23',\n",
       " 2413704: 'Psalms Chapter 24',\n",
       " 2415905: 'Psalms Chapter 25',\n",
       " 2417185: 'Psalms Chapter 26',\n",
       " 2419180: 'Psalms Chapter 27',\n",
       " 2420569: 'Psalms Chapter 28',\n",
       " 2422355: 'Psalms Chapter 29',\n",
       " 2423810: 'Psalms Chapter 30',\n",
       " 2426825: 'Psalms Chapter 31',\n",
       " 2428786: 'Psalms Chapter 32',\n",
       " 2430988: 'Psalms Chapter 33',\n",
       " 2433244: 'Psalms Chapter 34',\n",
       " 2436641: 'Psalms Chapter 35',\n",
       " 2438115: 'Psalms Chapter 36',\n",
       " 2442290: 'Psalms Chapter 37',\n",
       " 2444648: 'Psalms Chapter 38',\n",
       " 2446380: 'Psalms Chapter 39',\n",
       " 2448914: 'Psalms Chapter 40',\n",
       " 2450583: 'Psalms Chapter 41',\n",
       " 2452296: 'Psalms Chapter 42',\n",
       " 2453119: 'Psalms Chapter 43',\n",
       " 2456094: 'Psalms Chapter 44',\n",
       " 2458488: 'Psalms Chapter 45',\n",
       " 2459822: 'Psalms Chapter 46',\n",
       " 2460771: 'Psalms Chapter 47',\n",
       " 2462316: 'Psalms Chapter 48',\n",
       " 2466523: 'Psalms Chapter 49',\n",
       " 2468983: 'Psalms Chapter 50',\n",
       " 2471232: 'Psalms Chapter 51',\n",
       " 2472467: 'Psalms Chapter 52',\n",
       " 2473780: 'Psalms Chapter 53',\n",
       " 2474660: 'Psalms Chapter 54',\n",
       " 2477943: 'Psalms Chapter 55',\n",
       " 2479884: 'Psalms Chapter 56',\n",
       " 2481404: 'Psalms Chapter 57',\n",
       " 2483142: 'Psalms Chapter 58',\n",
       " 2485403: 'Psalms Chapter 59',\n",
       " 2487300: 'Psalms Chapter 60',\n",
       " 2488266: 'Psalms Chapter 61',\n",
       " 2489969: 'Psalms Chapter 62',\n",
       " 2491273: 'Psalms Chapter 63',\n",
       " 2492976: 'Psalms Chapter 64',\n",
       " 2494967: 'Psalms Chapter 65',\n",
       " 2496986: 'Psalms Chapter 66',\n",
       " 2497790: 'Psalms Chapter 67',\n",
       " 2508743: 'Psalms Chapter 68',\n",
       " 2513837: 'Psalms Chapter 69',\n",
       " 2514740: 'Psalms Chapter 70',\n",
       " 2517918: 'Psalms Chapter 71',\n",
       " 2520529: 'Psalms Chapter 72',\n",
       " 2524279: 'Psalms Chapter 73',\n",
       " 2528004: 'Psalms Chapter 74',\n",
       " 2529799: 'Psalms Chapter 75',\n",
       " 2531255: 'Psalms Chapter 76',\n",
       " 2533363: 'Psalms Chapter 77',\n",
       " 2541516: 'Psalms Chapter 78',\n",
       " 2543410: 'Psalms Chapter 79',\n",
       " 2545690: 'Psalms Chapter 80',\n",
       " 2547837: 'Psalms Chapter 81',\n",
       " 2548657: 'Psalms Chapter 82',\n",
       " 2550470: 'Psalms Chapter 83',\n",
       " 2552449: 'Psalms Chapter 84',\n",
       " 2553821: 'Psalms Chapter 85',\n",
       " 2555767: 'Psalms Chapter 86',\n",
       " 2557033: 'Psalms Chapter 87',\n",
       " 2559311: 'Psalms Chapter 88',\n",
       " 2564902: 'Psalms Chapter 89',\n",
       " 2567467: 'Psalms Chapter 90',\n",
       " 2569216: 'Psalms Chapter 91',\n",
       " 2570857: 'Psalms Chapter 92',\n",
       " 2571693: 'Psalms Chapter 93',\n",
       " 2574588: 'Psalms Chapter 94',\n",
       " 2575804: 'Psalms Chapter 95',\n",
       " 2577562: 'Psalms Chapter 96',\n",
       " 2579057: 'Psalms Chapter 97',\n",
       " 2580192: 'Psalms Chapter 98',\n",
       " 2582637: 'Psalms Chapter 99',\n",
       " 2583240: 'Psalms Chapter 100',\n",
       " 2584612: 'Psalms Chapter 101',\n",
       " 2588164: 'Psalms Chapter 102',\n",
       " 2590381: 'Psalms Chapter 103',\n",
       " 2594220: 'Psalms Chapter 104',\n",
       " 2599196: 'Psalms Chapter 105',\n",
       " 2604645: 'Psalms Chapter 106',\n",
       " 2609100: 'Psalms Chapter 107',\n",
       " 2610492: 'Psalms Chapter 108',\n",
       " 2614430: 'Psalms Chapter 109',\n",
       " 2615310: 'Psalms Chapter 110',\n",
       " 2616473: 'Psalms Chapter 111',\n",
       " 2617943: 'Psalms Chapter 112',\n",
       " 2618793: 'Psalms Chapter 113',\n",
       " 2621262: 'Psalms Chapter 114',\n",
       " 2622138: 'Psalms Chapter 115',\n",
       " 2623160: 'Psalms Chapter 116',\n",
       " 2623450: 'Psalms Chapter 117',\n",
       " 2626357: 'Psalms Chapter 118',\n",
       " 2643134: 'Psalms Chapter 119',\n",
       " 2644521: 'Psalms Chapter 120',\n",
       " 2645265: 'Psalms Chapter 121',\n",
       " 2646233: 'Psalms Chapter 122',\n",
       " 2646817: 'Psalms Chapter 123',\n",
       " 2647669: 'Psalms Chapter 124',\n",
       " 2648356: 'Psalms Chapter 125',\n",
       " 2649061: 'Psalms Chapter 126',\n",
       " 2650035: 'Psalms Chapter 127',\n",
       " 2650704: 'Psalms Chapter 128',\n",
       " 2651556: 'Psalms Chapter 129',\n",
       " 2652343: 'Psalms Chapter 130',\n",
       " 2652786: 'Psalms Chapter 131',\n",
       " 2654925: 'Psalms Chapter 132',\n",
       " 2655414: 'Psalms Chapter 133',\n",
       " 2655838: 'Psalms Chapter 134',\n",
       " 2657824: 'Psalms Chapter 135',\n",
       " 2660274: 'Psalms Chapter 136',\n",
       " 2661658: 'Psalms Chapter 137',\n",
       " 2662784: 'Psalms Chapter 138',\n",
       " 2665852: 'Psalms Chapter 139',\n",
       " 2667443: 'Psalms Chapter 140',\n",
       " 2669410: 'Psalms Chapter 141',\n",
       " 2670384: 'Psalms Chapter 142',\n",
       " 2672001: 'Psalms Chapter 143',\n",
       " 2673955: 'Psalms Chapter 144',\n",
       " 2676158: 'Psalms Chapter 145',\n",
       " 2677308: 'Psalms Chapter 146',\n",
       " 2678457: 'Psalms Chapter 147',\n",
       " 2679623: 'Psalms Chapter 148',\n",
       " 2680984: 'Psalms Chapter 149',\n",
       " 2681942: 'Psalms Chapter 150',\n",
       " 2682881: 'Proverbs Chapter 1',\n",
       " 2686180: 'Proverbs Chapter 2',\n",
       " 2688184: 'Proverbs Chapter 3',\n",
       " 2691378: 'Proverbs Chapter 4',\n",
       " 2694090: 'Proverbs Chapter 5',\n",
       " 2696285: 'Proverbs Chapter 6',\n",
       " 2700161: 'Proverbs Chapter 7',\n",
       " 2702698: 'Proverbs Chapter 8',\n",
       " 2706032: 'Proverbs Chapter 9',\n",
       " 2707744: 'Proverbs Chapter 10',\n",
       " 2711157: 'Proverbs Chapter 11',\n",
       " 2714449: 'Proverbs Chapter 12',\n",
       " 2717569: 'Proverbs Chapter 13',\n",
       " 2720305: 'Proverbs Chapter 14',\n",
       " 2723896: 'Proverbs Chapter 15',\n",
       " 2727345: 'Proverbs Chapter 16',\n",
       " 2731043: 'Proverbs Chapter 17',\n",
       " 2733999: 'Proverbs Chapter 18',\n",
       " 2736664: 'Proverbs Chapter 19',\n",
       " 2739686: 'Proverbs Chapter 20',\n",
       " 2742618: 'Proverbs Chapter 21',\n",
       " 2745714: 'Proverbs Chapter 22',\n",
       " 2748792: 'Proverbs Chapter 23',\n",
       " 2752316: 'Proverbs Chapter 24',\n",
       " 2755701: 'Proverbs Chapter 25',\n",
       " 2759157: 'Proverbs Chapter 26',\n",
       " 2762237: 'Proverbs Chapter 27',\n",
       " 2765253: 'Proverbs Chapter 28',\n",
       " 2768476: 'Proverbs Chapter 29',\n",
       " 2771346: 'Proverbs Chapter 30',\n",
       " 2775956: 'Proverbs Chapter 31',\n",
       " 2779468: 'Ecclesiastes Chapter 1',\n",
       " 2781838: 'Ecclesiastes Chapter 2',\n",
       " 2785839: 'Ecclesiastes Chapter 3',\n",
       " 2788971: 'Ecclesiastes Chapter 4',\n",
       " 2791378: 'Ecclesiastes Chapter 5',\n",
       " 2794204: 'Ecclesiastes Chapter 6',\n",
       " 2795716: 'Ecclesiastes Chapter 7',\n",
       " 2799965: 'Ecclesiastes Chapter 8',\n",
       " 2803289: 'Ecclesiastes Chapter 9',\n",
       " 2806864: 'Ecclesiastes Chapter 10',\n",
       " 2809286: 'Ecclesiastes Chapter 11',\n",
       " 2811468: 'Ecclesiastes Chapter 12',\n",
       " 2814497: 'Canticle of Canticles Chapter 1',\n",
       " 2817740: 'Canticle of Canticles Chapter 2',\n",
       " 2820318: 'Canticle of Canticles Chapter 3',\n",
       " 2822368: 'Canticle of Canticles Chapter 4',\n",
       " 2825445: 'Canticle of Canticles Chapter 5',\n",
       " 2828812: 'Canticle of Canticles Chapter 6',\n",
       " 2831054: 'Canticle of Canticles Chapter 7',\n",
       " 2833042: 'Canticle of Canticles Chapter 8',\n",
       " 2837011: 'Wisdom Chapter 1',\n",
       " 2839322: 'Wisdom Chapter 2',\n",
       " 2842612: 'Wisdom Chapter 3',\n",
       " 2844931: 'Wisdom Chapter 4',\n",
       " 2847700: 'Wisdom Chapter 5',\n",
       " 2851165: 'Wisdom Chapter 6',\n",
       " 2854360: 'Wisdom Chapter 7',\n",
       " 2858267: 'Wisdom Chapter 8',\n",
       " 2861280: 'Wisdom Chapter 9',\n",
       " 2863794: 'Wisdom Chapter 10',\n",
       " 2867507: 'Wisdom Chapter 11',\n",
       " 2871738: 'Wisdom Chapter 12',\n",
       " 2876181: 'Wisdom Chapter 13',\n",
       " 2879318: 'Wisdom Chapter 14',\n",
       " 2883886: 'Wisdom Chapter 15',\n",
       " 2887044: 'Wisdom Chapter 16',\n",
       " 2891977: 'Wisdom Chapter 17',\n",
       " 2895265: 'Wisdom Chapter 18',\n",
       " 2899817: 'Wisdom Chapter 19',\n",
       " 2906119: 'Ecclesiasticus Chapter 1',\n",
       " 2910238: 'Ecclesiasticus Chapter 2',\n",
       " 2912970: 'Ecclesiasticus Chapter 3',\n",
       " 2916889: 'Ecclesiasticus Chapter 4',\n",
       " 2920926: 'Ecclesiasticus Chapter 5',\n",
       " 2923030: 'Ecclesiasticus Chapter 6',\n",
       " 2927342: 'Ecclesiasticus Chapter 7',\n",
       " 2931903: 'Ecclesiasticus Chapter 8',\n",
       " 2934317: 'Ecclesiasticus Chapter 9',\n",
       " 2937014: 'Ecclesiasticus Chapter 10',\n",
       " 2941188: 'Ecclesiasticus Chapter 11',\n",
       " 2945370: 'Ecclesiasticus Chapter 12',\n",
       " 2947730: 'Ecclesiasticus Chapter 13',\n",
       " 2951428: 'Ecclesiasticus Chapter 14',\n",
       " 2954668: 'Ecclesiasticus Chapter 15',\n",
       " 2957219: 'Ecclesiasticus Chapter 16',\n",
       " 2961211: 'Ecclesiasticus Chapter 17',\n",
       " 2964999: 'Ecclesiasticus Chapter 18',\n",
       " 2968850: 'Ecclesiasticus Chapter 19',\n",
       " 2972478: 'Ecclesiasticus Chapter 20',\n",
       " 2976231: 'Ecclesiasticus Chapter 21',\n",
       " 2979943: 'Ecclesiasticus Chapter 22',\n",
       " 2984042: 'Ecclesiasticus Chapter 23',\n",
       " 2989242: 'Ecclesiasticus Chapter 24',\n",
       " 2994692: 'Ecclesiasticus Chapter 25',\n",
       " 2998176: 'Ecclesiasticus Chapter 26',\n",
       " 3001483: 'Ecclesiasticus Chapter 27',\n",
       " 3005461: 'Ecclesiasticus Chapter 28',\n",
       " 3009052: 'Ecclesiasticus Chapter 29',\n",
       " 3013031: 'Ecclesiasticus Chapter 30',\n",
       " 3016200: 'Ecclesiasticus Chapter 31',\n",
       " 3020396: 'Ecclesiasticus Chapter 32',\n",
       " 3023505: 'Ecclesiasticus Chapter 33',\n",
       " 3027743: 'Ecclesiasticus Chapter 34',\n",
       " 3031454: 'Ecclesiasticus Chapter 35',\n",
       " 3034401: 'Ecclesiasticus Chapter 36',\n",
       " 3037698: 'Ecclesiasticus Chapter 37',\n",
       " 3041634: 'Ecclesiasticus Chapter 38',\n",
       " 3046576: 'Ecclesiasticus Chapter 39',\n",
       " 3051325: 'Ecclesiasticus Chapter 40',\n",
       " 3055018: 'Ecclesiasticus Chapter 41',\n",
       " 3058491: 'Ecclesiasticus Chapter 42',\n",
       " 3062244: 'Ecclesiasticus Chapter 43',\n",
       " 3066445: 'Ecclesiasticus Chapter 44',\n",
       " 3069451: 'Ecclesiasticus Chapter 45',\n",
       " 3073711: 'Ecclesiasticus Chapter 46',\n",
       " 3077098: 'Ecclesiasticus Chapter 47',\n",
       " 3080784: 'Ecclesiasticus Chapter 48',\n",
       " 3084134: 'Ecclesiasticus Chapter 49',\n",
       " 3086624: 'Ecclesiasticus Chapter 50',\n",
       " 3090951: 'Ecclesiasticus Chapter 51',\n",
       " 3095776: 'Isaias Chapter 1',\n",
       " 3100277: 'Isaias Chapter 2',\n",
       " 3104156: 'Isaias Chapter 3',\n",
       " 3107554: 'Isaias Chapter 4',\n",
       " 3108840: 'Isaias Chapter 5',\n",
       " 3114136: 'Isaias Chapter 6',\n",
       " 3116304: 'Isaias Chapter 7',\n",
       " 3120181: 'Isaias Chapter 8',\n",
       " 3123835: 'Isaias Chapter 9',\n",
       " 3127512: 'Isaias Chapter 10',\n",
       " 3133599: 'Isaias Chapter 11',\n",
       " 3136594: 'Isaias Chapter 12',\n",
       " 3137450: 'Isaias Chapter 13',\n",
       " 3140777: 'Isaias Chapter 14',\n",
       " 3146074: 'Isaias Chapter 15',\n",
       " 3147720: 'Isaias Chapter 16',\n",
       " 3150365: 'Isaias Chapter 17',\n",
       " 3153092: 'Isaias Chapter 18',\n",
       " 3154693: 'Isaias Chapter 19',\n",
       " 3158791: 'Isaias Chapter 20',\n",
       " 3159931: 'Isaias Chapter 21',\n",
       " 3162855: 'Isaias Chapter 22',\n",
       " 3167077: 'Isaias Chapter 23',\n",
       " 3170013: 'Isaias Chapter 24',\n",
       " 3173947: 'Isaias Chapter 25',\n",
       " 3176193: 'Isaias Chapter 26',\n",
       " 3179404: 'Isaias Chapter 27',\n",
       " 3183245: 'Isaias Chapter 28',\n",
       " 3188799: 'Isaias Chapter 29',\n",
       " 3193170: 'Isaias Chapter 30',\n",
       " 3199210: 'Isaias Chapter 31',\n",
       " 3201041: 'Isaias Chapter 32',\n",
       " 3203696: 'Isaias Chapter 33',\n",
       " 3207800: 'Isaias Chapter 34',\n",
       " 3211206: 'Isaias Chapter 35',\n",
       " 3212929: 'Isaias Chapter 36',\n",
       " 3216795: 'Isaias Chapter 37',\n",
       " 3223460: 'Isaias Chapter 38',\n",
       " 3226850: 'Isaias Chapter 39',\n",
       " 3228542: 'Isaias Chapter 40',\n",
       " 3233248: 'Isaias Chapter 41',\n",
       " 3237928: 'Isaias Chapter 42',\n",
       " 3242066: 'Isaias Chapter 43',\n",
       " 3246114: 'Isaias Chapter 44',\n",
       " 3251126: 'Isaias Chapter 45',\n",
       " 3255497: 'Isaias Chapter 46',\n",
       " 3257432: 'Isaias Chapter 47',\n",
       " 3260206: 'Isaias Chapter 48',\n",
       " 3263723: 'Isaias Chapter 49',\n",
       " 3268611: 'Isaias Chapter 50',\n",
       " 3270770: 'Isaias Chapter 51',\n",
       " 3275206: 'Isaias Chapter 52',\n",
       " 3277720: 'Isaias Chapter 53',\n",
       " 3279926: 'Isaias Chapter 54',\n",
       " 3282858: 'Isaias Chapter 55',\n",
       " 3285151: 'Isaias Chapter 56',\n",
       " 3287284: 'Isaias Chapter 57',\n",
       " 3290625: 'Isaias Chapter 58',\n",
       " 3293637: 'Isaias Chapter 59',\n",
       " 3297581: 'Isaias Chapter 60',\n",
       " 3301744: 'Isaias Chapter 61',\n",
       " 3304006: 'Isaias Chapter 62',\n",
       " 3306217: 'Isaias Chapter 63',\n",
       " 3310327: 'Isaias Chapter 64',\n",
       " 3312501: 'Isaias Chapter 65',\n",
       " 3316880: 'Isaias Chapter 66',\n",
       " 3322987: 'Jeremias Chapter 1',\n",
       " 3325966: 'Jeremias Chapter 2',\n",
       " 3332151: 'Jeremias Chapter 3',\n",
       " 3336785: 'Jeremias Chapter 4',\n",
       " 3341885: 'Jeremias Chapter 5',\n",
       " 3346881: 'Jeremias Chapter 6',\n",
       " 3351813: 'Jeremias Chapter 7',\n",
       " 3357823: 'Jeremias Chapter 8',\n",
       " 3361808: 'Jeremias Chapter 9',\n",
       " 3366460: 'Jeremias Chapter 10',\n",
       " 3370718: 'Jeremias Chapter 11',\n",
       " 3375266: 'Jeremias Chapter 12',\n",
       " 3378439: 'Jeremias Chapter 13',\n",
       " 3382809: 'Jeremias Chapter 14',\n",
       " 3386869: 'Jeremias Chapter 15',\n",
       " 3391147: 'Jeremias Chapter 16',\n",
       " 3395172: 'Jeremias Chapter 17',\n",
       " 3400562: 'Jeremias Chapter 18',\n",
       " 3404507: 'Jeremias Chapter 19',\n",
       " 3407749: 'Jeremias Chapter 20',\n",
       " 3412042: 'Jeremias Chapter 21',\n",
       " 3415038: 'Jeremias Chapter 22',\n",
       " 3420845: 'Jeremias Chapter 23',\n",
       " 3428129: 'Jeremias Chapter 24',\n",
       " 3430266: 'Jeremias Chapter 25',\n",
       " 3437527: 'Jeremias Chapter 26',\n",
       " 3442025: 'Jeremias Chapter 27',\n",
       " 3446729: 'Jeremias Chapter 28',\n",
       " 3449837: 'Jeremias Chapter 29',\n",
       " 3455855: 'Jeremias Chapter 30',\n",
       " 3460059: 'Jeremias Chapter 31',\n",
       " 3467405: 'Jeremias Chapter 32',\n",
       " 3475539: 'Jeremias Chapter 33',\n",
       " 3481021: 'Jeremias Chapter 34',\n",
       " 3485942: 'Jeremias Chapter 35',\n",
       " 3489856: 'Jeremias Chapter 36',\n",
       " 3496563: 'Jeremias Chapter 37',\n",
       " 3500258: 'Jeremias Chapter 38',\n",
       " 3506003: 'Jeremias Chapter 39',\n",
       " 3509274: 'Jeremias Chapter 40',\n",
       " 3513170: 'Jeremias Chapter 41',\n",
       " 3516914: 'Jeremias Chapter 42',\n",
       " 3521233: 'Jeremias Chapter 43',\n",
       " 3523905: 'Jeremias Chapter 44',\n",
       " 3530875: 'Jeremias Chapter 45',\n",
       " 3531771: 'Jeremias Chapter 46',\n",
       " 3536833: 'Jeremias Chapter 47',\n",
       " 3538246: 'Jeremias Chapter 48',\n",
       " 3545935: 'Jeremias Chapter 49',\n",
       " 3553068: 'Jeremias Chapter 50',\n",
       " 3562024: 'Jeremias Chapter 51',\n",
       " 3572816: 'Jeremias Chapter 52',\n",
       " 3579238: 'Lamentations Chapter 1',\n",
       " 3584243: 'Lamentations Chapter 2',\n",
       " 3589540: 'Lamentations Chapter 3',\n",
       " 3595244: 'Lamentations Chapter 4',\n",
       " 3599107: 'Lamentations Chapter 5',\n",
       " 3601349: 'Baruch Chapter 1',\n",
       " 3605240: 'Baruch Chapter 2',\n",
       " 3611091: 'Baruch Chapter 3',\n",
       " 3616051: 'Baruch Chapter 4',\n",
       " 3620881: 'Baruch Chapter 5',\n",
       " 3622286: 'Baruch Chapter 6',\n",
       " 3632916: 'Ezechiel Chapter 1',\n",
       " 3638481: 'Ezechiel Chapter 2',\n",
       " 3640189: 'Ezechiel Chapter 3',\n",
       " 3645098: 'Ezechiel Chapter 4',\n",
       " 3648239: 'Ezechiel Chapter 5',\n",
       " 3651886: 'Ezechiel Chapter 6',\n",
       " 3654625: 'Ezechiel Chapter 7',\n",
       " 3659197: 'Ezechiel Chapter 8',\n",
       " 3663143: 'Ezechiel Chapter 9',\n",
       " 3665830: 'Ezechiel Chapter 10',\n",
       " 3669729: 'Ezechiel Chapter 11',\n",
       " 3675117: 'Ezechiel Chapter 12',\n",
       " 3679902: 'Ezechiel Chapter 13',\n",
       " 3684502: 'Ezechiel Chapter 14',\n",
       " 3689680: 'Ezechiel Chapter 15',\n",
       " 3690943: 'Ezechiel Chapter 16',\n",
       " 3702865: 'Ezechiel Chapter 17',\n",
       " 3708052: 'Ezechiel Chapter 18',\n",
       " 3713724: 'Ezechiel Chapter 19',\n",
       " 3715965: 'Ezechiel Chapter 20',\n",
       " 3726519: 'Ezechiel Chapter 21',\n",
       " 3732994: 'Ezechiel Chapter 22',\n",
       " 3738038: 'Ezechiel Chapter 23',\n",
       " 3746717: 'Ezechiel Chapter 24',\n",
       " 3751148: 'Ezechiel Chapter 25',\n",
       " 3754368: 'Ezechiel Chapter 26',\n",
       " 3758303: 'Ezechiel Chapter 27',\n",
       " 3763892: 'Ezechiel Chapter 28',\n",
       " 3769297: 'Ezechiel Chapter 29',\n",
       " 3773343: 'Ezechiel Chapter 30',\n",
       " 3777911: 'Ezechiel Chapter 31',\n",
       " 3781899: 'Ezechiel Chapter 32',\n",
       " 3788055: 'Ezechiel Chapter 33',\n",
       " 3794092: 'Ezechiel Chapter 34',\n",
       " 3799905: 'Ezechiel Chapter 35',\n",
       " 3802218: 'Ezechiel Chapter 36',\n",
       " 3809107: 'Ezechiel Chapter 37',\n",
       " 3814194: 'Ezechiel Chapter 38',\n",
       " 3818981: 'Ezechiel Chapter 39',\n",
       " 3824229: 'Ezechiel Chapter 40',\n",
       " 3833040: 'Ezechiel Chapter 41',\n",
       " 3838432: 'Ezechiel Chapter 42',\n",
       " 3842060: 'Ezechiel Chapter 43',\n",
       " 3847539: 'Ezechiel Chapter 44',\n",
       " 3853706: 'Ezechiel Chapter 45',\n",
       " 3858739: 'Ezechiel Chapter 46',\n",
       " 3863532: 'Ezechiel Chapter 47',\n",
       " 3868597: 'Ezechiel Chapter 48',\n",
       " 3875961: 'Daniel Chapter 1',\n",
       " 3879622: 'Daniel Chapter 2',\n",
       " 3889162: 'Daniel Chapter 3',\n",
       " 3904423: 'Daniel Chapter 4',\n",
       " 3912346: 'Daniel Chapter 5',\n",
       " 3918779: 'Daniel Chapter 6',\n",
       " 3924097: 'Daniel Chapter 7',\n",
       " 3930242: 'Daniel Chapter 8',\n",
       " 3935917: 'Daniel Chapter 9',\n",
       " 3943284: 'Daniel Chapter 10',\n",
       " 3947194: 'Daniel Chapter 11',\n",
       " 3959012: 'Daniel Chapter 12',\n",
       " 3961526: 'Daniel Chapter 13',\n",
       " 3970526: 'Daniel Chapter 14',\n",
       " 3977796: 'Osee Chapter 1',\n",
       " 3980520: 'Osee Chapter 2',\n",
       " 3985811: 'Osee Chapter 3',\n",
       " 3986977: 'Osee Chapter 4',\n",
       " 3990478: 'Osee Chapter 5',\n",
       " 3993184: 'Osee Chapter 6',\n",
       " 3995259: 'Osee Chapter 7',\n",
       " 3997978: 'Osee Chapter 8',\n",
       " 3999958: 'Osee Chapter 9',\n",
       " 4002721: 'Osee Chapter 10',\n",
       " 4005806: 'Osee Chapter 11',\n",
       " 4008184: 'Osee Chapter 12',\n",
       " 4010362: 'Osee Chapter 13',\n",
       " 4012555: 'Osee Chapter 14',\n",
       " 4014852: 'Joel Chapter 1',\n",
       " 4018170: 'Joel Chapter 2',\n",
       " 4023942: 'Joel Chapter 3',\n",
       " 4028021: 'Amos Chapter 1',\n",
       " 4031304: 'Amos Chapter 2',\n",
       " 4034040: 'Amos Chapter 3',\n",
       " 4036549: 'Amos Chapter 4',\n",
       " 4039162: 'Amos Chapter 5',\n",
       " 4043547: 'Amos Chapter 6',\n",
       " ...}"
      ]
     },
     "execution_count": 2,
     "metadata": {},
     "output_type": "execute_result"
    }
   ],
   "source": [
    "extractor = BibleExtractor()\n",
    "bible_text = extractor.download_text()\n",
    "chapters = extractor.extract_chapters(bible_text)\n",
    "chapters"
   ]
  },
  {
   "cell_type": "code",
   "execution_count": 29,
   "metadata": {},
   "outputs": [],
   "source": [
    "def count_books(chapters: Dict) -> Dict[str, int]:\n",
    "    \"\"\"\n",
    "    Count the number of chapters in each book of the Bible.\n",
    "\n",
    "    Args:\n",
    "        chapters (Dict): Dictionary of chapters in the Bible.\n",
    "\n",
    "    Returns:\n",
    "        Dict[str, int]: Dictionary of book names and the number of chapters in each book.\n",
    "    \"\"\"\n",
    "    book_counts = {}\n",
    "    \n",
    "    for index, chapter in chapters.items():\n",
    "        book = chapter.split(\" \")[:-2]\n",
    "        book = \" \".join(book)\n",
    "        \n",
    "        if book in book_counts:\n",
    "            book_counts[book] += 1\n",
    "        else:\n",
    "            book_counts[book] = 1\n",
    "    \n",
    "    return book_counts"
   ]
  },
  {
   "cell_type": "code",
   "execution_count": 33,
   "metadata": {},
   "outputs": [],
   "source": [
    "def plot_chapters_distribution(chp_grp_dict: Dict, title: str = \"\", bar_height: int = 20):\n",
    "    \"\"\"\n",
    "    Plot the distribution of chapters by group.\n",
    "\n",
    "    Args:\n",
    "        chp_grp_dict (Dict): Dictionary of chapters grouped by name.\n",
    "        title (str): Title of the plot.\n",
    "        bar_height (int): Height of each bar in the plot.\n",
    "    \"\"\"\n",
    "\n",
    "    fig = go.Figure()\n",
    "    fig.add_trace(\n",
    "        go.Bar(y=list(chp_grp_dict.keys()), x=list(chp_grp_dict.values()), orientation=\"h\")\n",
    "    )\n",
    "\n",
    "    # Calculate the height based on the number of bars\n",
    "    num_bars = len(chp_grp_dict)\n",
    "    bar_height = bar_height\n",
    "    fig_height = num_bars * bar_height\n",
    "\n",
    "    # Update layout to ensure bars are as thick as the titles\n",
    "    fig.update_layout(\n",
    "        height=fig_height,\n",
    "        margin=dict(l=200),  # Increase left margin to accommodate long titles\n",
    "        yaxis=dict(automargin=True),\n",
    "        title=title,\n",
    "    )\n",
    "\n",
    "    fig.show()"
   ]
  },
  {
   "cell_type": "code",
   "execution_count": 22,
   "metadata": {},
   "outputs": [],
   "source": [
    "chp_grp_dict = count_books(chapters)"
   ]
  },
  {
   "cell_type": "code",
   "execution_count": 23,
   "metadata": {},
   "outputs": [
    {
     "data": {
      "application/vnd.plotly.v1+json": {
       "config": {
        "plotlyServerURL": "https://plot.ly"
       },
       "data": [
        {
         "orientation": "h",
         "type": "bar",
         "x": [
          50,
          40,
          27,
          36,
          34,
          24,
          21,
          4,
          123,
          112,
          23,
          25,
          14,
          16,
          16,
          42,
          150,
          1,
          31,
          12,
          8,
          19,
          51,
          66,
          52,
          5,
          6,
          48,
          14,
          14,
          3,
          9,
          1,
          4,
          7,
          3,
          3,
          3,
          2,
          14,
          4,
          28,
          16,
          24,
          21,
          28,
          16,
          6,
          6,
          4,
          4,
          3,
          1,
          13,
          5,
          1,
          22
         ],
         "y": [
          "Genesis",
          "Exodus",
          "Leviticus",
          "Numbers",
          "Deuteronomy",
          "Josue",
          "Judges",
          "Ruth",
          "1",
          "2",
          "3",
          "4",
          "Tobias",
          "Judith",
          "Esther",
          "Job",
          "Psalms",
          "Psalm",
          "Proverbs",
          "Ecclesiastes",
          "Canticle",
          "Wisdom",
          "Ecclesiasticus",
          "Isaias",
          "Jeremias",
          "Lamentations",
          "Baruch",
          "Ezechiel",
          "Daniel",
          "Osee",
          "Joel",
          "Amos",
          "Abdias",
          "Jonas",
          "Micheas",
          "Nahum",
          "Habacuc",
          "Sophonias",
          "Aggeus",
          "Zacharias",
          "Malachias",
          "Matthew",
          "Mark",
          "Luke",
          "John",
          "Acts",
          "Romans",
          "Galatians",
          "Ephesians",
          "Philippians",
          "Colossians",
          "Titus",
          "Philemon",
          "Hebrews",
          "James",
          "Jude",
          "Apocalypse"
         ]
        }
       ],
       "layout": {
        "height": 1140,
        "margin": {
         "l": 200
        },
        "template": {
         "data": {
          "bar": [
           {
            "error_x": {
             "color": "#2a3f5f"
            },
            "error_y": {
             "color": "#2a3f5f"
            },
            "marker": {
             "line": {
              "color": "#E5ECF6",
              "width": 0.5
             },
             "pattern": {
              "fillmode": "overlay",
              "size": 10,
              "solidity": 0.2
             }
            },
            "type": "bar"
           }
          ],
          "barpolar": [
           {
            "marker": {
             "line": {
              "color": "#E5ECF6",
              "width": 0.5
             },
             "pattern": {
              "fillmode": "overlay",
              "size": 10,
              "solidity": 0.2
             }
            },
            "type": "barpolar"
           }
          ],
          "carpet": [
           {
            "aaxis": {
             "endlinecolor": "#2a3f5f",
             "gridcolor": "white",
             "linecolor": "white",
             "minorgridcolor": "white",
             "startlinecolor": "#2a3f5f"
            },
            "baxis": {
             "endlinecolor": "#2a3f5f",
             "gridcolor": "white",
             "linecolor": "white",
             "minorgridcolor": "white",
             "startlinecolor": "#2a3f5f"
            },
            "type": "carpet"
           }
          ],
          "choropleth": [
           {
            "colorbar": {
             "outlinewidth": 0,
             "ticks": ""
            },
            "type": "choropleth"
           }
          ],
          "contour": [
           {
            "colorbar": {
             "outlinewidth": 0,
             "ticks": ""
            },
            "colorscale": [
             [
              0,
              "#0d0887"
             ],
             [
              0.1111111111111111,
              "#46039f"
             ],
             [
              0.2222222222222222,
              "#7201a8"
             ],
             [
              0.3333333333333333,
              "#9c179e"
             ],
             [
              0.4444444444444444,
              "#bd3786"
             ],
             [
              0.5555555555555556,
              "#d8576b"
             ],
             [
              0.6666666666666666,
              "#ed7953"
             ],
             [
              0.7777777777777778,
              "#fb9f3a"
             ],
             [
              0.8888888888888888,
              "#fdca26"
             ],
             [
              1,
              "#f0f921"
             ]
            ],
            "type": "contour"
           }
          ],
          "contourcarpet": [
           {
            "colorbar": {
             "outlinewidth": 0,
             "ticks": ""
            },
            "type": "contourcarpet"
           }
          ],
          "heatmap": [
           {
            "colorbar": {
             "outlinewidth": 0,
             "ticks": ""
            },
            "colorscale": [
             [
              0,
              "#0d0887"
             ],
             [
              0.1111111111111111,
              "#46039f"
             ],
             [
              0.2222222222222222,
              "#7201a8"
             ],
             [
              0.3333333333333333,
              "#9c179e"
             ],
             [
              0.4444444444444444,
              "#bd3786"
             ],
             [
              0.5555555555555556,
              "#d8576b"
             ],
             [
              0.6666666666666666,
              "#ed7953"
             ],
             [
              0.7777777777777778,
              "#fb9f3a"
             ],
             [
              0.8888888888888888,
              "#fdca26"
             ],
             [
              1,
              "#f0f921"
             ]
            ],
            "type": "heatmap"
           }
          ],
          "heatmapgl": [
           {
            "colorbar": {
             "outlinewidth": 0,
             "ticks": ""
            },
            "colorscale": [
             [
              0,
              "#0d0887"
             ],
             [
              0.1111111111111111,
              "#46039f"
             ],
             [
              0.2222222222222222,
              "#7201a8"
             ],
             [
              0.3333333333333333,
              "#9c179e"
             ],
             [
              0.4444444444444444,
              "#bd3786"
             ],
             [
              0.5555555555555556,
              "#d8576b"
             ],
             [
              0.6666666666666666,
              "#ed7953"
             ],
             [
              0.7777777777777778,
              "#fb9f3a"
             ],
             [
              0.8888888888888888,
              "#fdca26"
             ],
             [
              1,
              "#f0f921"
             ]
            ],
            "type": "heatmapgl"
           }
          ],
          "histogram": [
           {
            "marker": {
             "pattern": {
              "fillmode": "overlay",
              "size": 10,
              "solidity": 0.2
             }
            },
            "type": "histogram"
           }
          ],
          "histogram2d": [
           {
            "colorbar": {
             "outlinewidth": 0,
             "ticks": ""
            },
            "colorscale": [
             [
              0,
              "#0d0887"
             ],
             [
              0.1111111111111111,
              "#46039f"
             ],
             [
              0.2222222222222222,
              "#7201a8"
             ],
             [
              0.3333333333333333,
              "#9c179e"
             ],
             [
              0.4444444444444444,
              "#bd3786"
             ],
             [
              0.5555555555555556,
              "#d8576b"
             ],
             [
              0.6666666666666666,
              "#ed7953"
             ],
             [
              0.7777777777777778,
              "#fb9f3a"
             ],
             [
              0.8888888888888888,
              "#fdca26"
             ],
             [
              1,
              "#f0f921"
             ]
            ],
            "type": "histogram2d"
           }
          ],
          "histogram2dcontour": [
           {
            "colorbar": {
             "outlinewidth": 0,
             "ticks": ""
            },
            "colorscale": [
             [
              0,
              "#0d0887"
             ],
             [
              0.1111111111111111,
              "#46039f"
             ],
             [
              0.2222222222222222,
              "#7201a8"
             ],
             [
              0.3333333333333333,
              "#9c179e"
             ],
             [
              0.4444444444444444,
              "#bd3786"
             ],
             [
              0.5555555555555556,
              "#d8576b"
             ],
             [
              0.6666666666666666,
              "#ed7953"
             ],
             [
              0.7777777777777778,
              "#fb9f3a"
             ],
             [
              0.8888888888888888,
              "#fdca26"
             ],
             [
              1,
              "#f0f921"
             ]
            ],
            "type": "histogram2dcontour"
           }
          ],
          "mesh3d": [
           {
            "colorbar": {
             "outlinewidth": 0,
             "ticks": ""
            },
            "type": "mesh3d"
           }
          ],
          "parcoords": [
           {
            "line": {
             "colorbar": {
              "outlinewidth": 0,
              "ticks": ""
             }
            },
            "type": "parcoords"
           }
          ],
          "pie": [
           {
            "automargin": true,
            "type": "pie"
           }
          ],
          "scatter": [
           {
            "fillpattern": {
             "fillmode": "overlay",
             "size": 10,
             "solidity": 0.2
            },
            "type": "scatter"
           }
          ],
          "scatter3d": [
           {
            "line": {
             "colorbar": {
              "outlinewidth": 0,
              "ticks": ""
             }
            },
            "marker": {
             "colorbar": {
              "outlinewidth": 0,
              "ticks": ""
             }
            },
            "type": "scatter3d"
           }
          ],
          "scattercarpet": [
           {
            "marker": {
             "colorbar": {
              "outlinewidth": 0,
              "ticks": ""
             }
            },
            "type": "scattercarpet"
           }
          ],
          "scattergeo": [
           {
            "marker": {
             "colorbar": {
              "outlinewidth": 0,
              "ticks": ""
             }
            },
            "type": "scattergeo"
           }
          ],
          "scattergl": [
           {
            "marker": {
             "colorbar": {
              "outlinewidth": 0,
              "ticks": ""
             }
            },
            "type": "scattergl"
           }
          ],
          "scattermapbox": [
           {
            "marker": {
             "colorbar": {
              "outlinewidth": 0,
              "ticks": ""
             }
            },
            "type": "scattermapbox"
           }
          ],
          "scatterpolar": [
           {
            "marker": {
             "colorbar": {
              "outlinewidth": 0,
              "ticks": ""
             }
            },
            "type": "scatterpolar"
           }
          ],
          "scatterpolargl": [
           {
            "marker": {
             "colorbar": {
              "outlinewidth": 0,
              "ticks": ""
             }
            },
            "type": "scatterpolargl"
           }
          ],
          "scatterternary": [
           {
            "marker": {
             "colorbar": {
              "outlinewidth": 0,
              "ticks": ""
             }
            },
            "type": "scatterternary"
           }
          ],
          "surface": [
           {
            "colorbar": {
             "outlinewidth": 0,
             "ticks": ""
            },
            "colorscale": [
             [
              0,
              "#0d0887"
             ],
             [
              0.1111111111111111,
              "#46039f"
             ],
             [
              0.2222222222222222,
              "#7201a8"
             ],
             [
              0.3333333333333333,
              "#9c179e"
             ],
             [
              0.4444444444444444,
              "#bd3786"
             ],
             [
              0.5555555555555556,
              "#d8576b"
             ],
             [
              0.6666666666666666,
              "#ed7953"
             ],
             [
              0.7777777777777778,
              "#fb9f3a"
             ],
             [
              0.8888888888888888,
              "#fdca26"
             ],
             [
              1,
              "#f0f921"
             ]
            ],
            "type": "surface"
           }
          ],
          "table": [
           {
            "cells": {
             "fill": {
              "color": "#EBF0F8"
             },
             "line": {
              "color": "white"
             }
            },
            "header": {
             "fill": {
              "color": "#C8D4E3"
             },
             "line": {
              "color": "white"
             }
            },
            "type": "table"
           }
          ]
         },
         "layout": {
          "annotationdefaults": {
           "arrowcolor": "#2a3f5f",
           "arrowhead": 0,
           "arrowwidth": 1
          },
          "autotypenumbers": "strict",
          "coloraxis": {
           "colorbar": {
            "outlinewidth": 0,
            "ticks": ""
           }
          },
          "colorscale": {
           "diverging": [
            [
             0,
             "#8e0152"
            ],
            [
             0.1,
             "#c51b7d"
            ],
            [
             0.2,
             "#de77ae"
            ],
            [
             0.3,
             "#f1b6da"
            ],
            [
             0.4,
             "#fde0ef"
            ],
            [
             0.5,
             "#f7f7f7"
            ],
            [
             0.6,
             "#e6f5d0"
            ],
            [
             0.7,
             "#b8e186"
            ],
            [
             0.8,
             "#7fbc41"
            ],
            [
             0.9,
             "#4d9221"
            ],
            [
             1,
             "#276419"
            ]
           ],
           "sequential": [
            [
             0,
             "#0d0887"
            ],
            [
             0.1111111111111111,
             "#46039f"
            ],
            [
             0.2222222222222222,
             "#7201a8"
            ],
            [
             0.3333333333333333,
             "#9c179e"
            ],
            [
             0.4444444444444444,
             "#bd3786"
            ],
            [
             0.5555555555555556,
             "#d8576b"
            ],
            [
             0.6666666666666666,
             "#ed7953"
            ],
            [
             0.7777777777777778,
             "#fb9f3a"
            ],
            [
             0.8888888888888888,
             "#fdca26"
            ],
            [
             1,
             "#f0f921"
            ]
           ],
           "sequentialminus": [
            [
             0,
             "#0d0887"
            ],
            [
             0.1111111111111111,
             "#46039f"
            ],
            [
             0.2222222222222222,
             "#7201a8"
            ],
            [
             0.3333333333333333,
             "#9c179e"
            ],
            [
             0.4444444444444444,
             "#bd3786"
            ],
            [
             0.5555555555555556,
             "#d8576b"
            ],
            [
             0.6666666666666666,
             "#ed7953"
            ],
            [
             0.7777777777777778,
             "#fb9f3a"
            ],
            [
             0.8888888888888888,
             "#fdca26"
            ],
            [
             1,
             "#f0f921"
            ]
           ]
          },
          "colorway": [
           "#636efa",
           "#EF553B",
           "#00cc96",
           "#ab63fa",
           "#FFA15A",
           "#19d3f3",
           "#FF6692",
           "#B6E880",
           "#FF97FF",
           "#FECB52"
          ],
          "font": {
           "color": "#2a3f5f"
          },
          "geo": {
           "bgcolor": "white",
           "lakecolor": "white",
           "landcolor": "#E5ECF6",
           "showlakes": true,
           "showland": true,
           "subunitcolor": "white"
          },
          "hoverlabel": {
           "align": "left"
          },
          "hovermode": "closest",
          "mapbox": {
           "style": "light"
          },
          "paper_bgcolor": "white",
          "plot_bgcolor": "#E5ECF6",
          "polar": {
           "angularaxis": {
            "gridcolor": "white",
            "linecolor": "white",
            "ticks": ""
           },
           "bgcolor": "#E5ECF6",
           "radialaxis": {
            "gridcolor": "white",
            "linecolor": "white",
            "ticks": ""
           }
          },
          "scene": {
           "xaxis": {
            "backgroundcolor": "#E5ECF6",
            "gridcolor": "white",
            "gridwidth": 2,
            "linecolor": "white",
            "showbackground": true,
            "ticks": "",
            "zerolinecolor": "white"
           },
           "yaxis": {
            "backgroundcolor": "#E5ECF6",
            "gridcolor": "white",
            "gridwidth": 2,
            "linecolor": "white",
            "showbackground": true,
            "ticks": "",
            "zerolinecolor": "white"
           },
           "zaxis": {
            "backgroundcolor": "#E5ECF6",
            "gridcolor": "white",
            "gridwidth": 2,
            "linecolor": "white",
            "showbackground": true,
            "ticks": "",
            "zerolinecolor": "white"
           }
          },
          "shapedefaults": {
           "line": {
            "color": "#2a3f5f"
           }
          },
          "ternary": {
           "aaxis": {
            "gridcolor": "white",
            "linecolor": "white",
            "ticks": ""
           },
           "baxis": {
            "gridcolor": "white",
            "linecolor": "white",
            "ticks": ""
           },
           "bgcolor": "#E5ECF6",
           "caxis": {
            "gridcolor": "white",
            "linecolor": "white",
            "ticks": ""
           }
          },
          "title": {
           "x": 0.05
          },
          "xaxis": {
           "automargin": true,
           "gridcolor": "white",
           "linecolor": "white",
           "ticks": "",
           "title": {
            "standoff": 15
           },
           "zerolinecolor": "white",
           "zerolinewidth": 2
          },
          "yaxis": {
           "automargin": true,
           "gridcolor": "white",
           "linecolor": "white",
           "ticks": "",
           "title": {
            "standoff": 15
           },
           "zerolinecolor": "white",
           "zerolinewidth": 2
          }
         }
        },
        "title": {
         "text": "Bible books distribution by chapters"
        },
        "yaxis": {
         "automargin": true
        }
       }
      }
     },
     "metadata": {},
     "output_type": "display_data"
    }
   ],
   "source": [
    "plot_chapters_distribution(chp_grp_dict, \"Bible books distribution by chapters\")"
   ]
  },
  {
   "cell_type": "markdown",
   "metadata": {},
   "source": [
    "Annoyngly, one of the Psalms is named \"Psalm\" what created an extra bar above. Although another rule could be added to the `BibleExtractor` for now, let's just blame the dataset :)\n",
    "\n",
    "Let's also split our data into New and Old testament so that we can have dedicated stats for each of them. We see that the last book is 2 Macabees. Since we are using python 3.8 (this behavior started in python 3.7, for the record) we can rely in the order that the keys have been kept in the dictionary, so we can safely assume that the indices after that one are all from the New Testament."
   ]
  },
  {
   "cell_type": "code",
   "execution_count": 12,
   "metadata": {},
   "outputs": [
    {
     "data": {
      "text/plain": [
       "{4445726: 'Matthew Chapter 1',\n",
       " 4450383: 'Matthew Chapter 2',\n",
       " 4453840: 'Matthew Chapter 3',\n",
       " 4456476: 'Matthew Chapter 4',\n",
       " 4459989: 'Matthew Chapter 5',\n",
       " 4468417: 'Matthew Chapter 6',\n",
       " 4473282: 'Matthew Chapter 7',\n",
       " 4476874: 'Matthew Chapter 8',\n",
       " 4481372: 'Matthew Chapter 9',\n",
       " 4486399: 'Matthew Chapter 10',\n",
       " 4491999: 'Matthew Chapter 11',\n",
       " 4496319: 'Matthew Chapter 12',\n",
       " 4504697: 'Matthew Chapter 13',\n",
       " 4512875: 'Matthew Chapter 14',\n",
       " 4517319: 'Matthew Chapter 15',\n",
       " 4524254: 'Matthew Chapter 16',\n",
       " 4530900: 'Matthew Chapter 17',\n",
       " 4534888: 'Matthew Chapter 18',\n",
       " 4540736: 'Matthew Chapter 19',\n",
       " 4545846: 'Matthew Chapter 20',\n",
       " 4550087: 'Matthew Chapter 21',\n",
       " 4556683: 'Matthew Chapter 22',\n",
       " 4561968: 'Matthew Chapter 23',\n",
       " 4568525: 'Matthew Chapter 24',\n",
       " 4575064: 'Matthew Chapter 25',\n",
       " 4580779: 'Matthew Chapter 26',\n",
       " 4591895: 'Matthew Chapter 27',\n",
       " 4600208: 'Matthew Chapter 28',\n",
       " 4603930: 'Mark Chapter 1',\n",
       " 4609265: 'Mark Chapter 2',\n",
       " 4613260: 'Mark Chapter 3',\n",
       " 4617223: 'Mark Chapter 4',\n",
       " 4622551: 'Mark Chapter 5',\n",
       " 4627863: 'Mark Chapter 6',\n",
       " 4635470: 'Mark Chapter 7',\n",
       " 4640272: 'Mark Chapter 8',\n",
       " 4645180: 'Mark Chapter 9',\n",
       " 4651528: 'Mark Chapter 10',\n",
       " 4658471: 'Mark Chapter 11',\n",
       " 4663021: 'Mark Chapter 12',\n",
       " 4669187: 'Mark Chapter 13',\n",
       " 4674107: 'Mark Chapter 14',\n",
       " 4683411: 'Mark Chapter 15',\n",
       " 4689177: 'Mark Chapter 16',\n",
       " 4692465: 'Luke Chapter 1',\n",
       " 4702514: 'Luke Chapter 2',\n",
       " 4709391: 'Luke Chapter 3',\n",
       " 4714566: 'Luke Chapter 4',\n",
       " 4720258: 'Luke Chapter 5',\n",
       " 4725634: 'Luke Chapter 6',\n",
       " 4732573: 'Luke Chapter 7',\n",
       " 4739945: 'Luke Chapter 8',\n",
       " 4748008: 'Luke Chapter 9',\n",
       " 4756218: 'Luke Chapter 10',\n",
       " 4761899: 'Luke Chapter 11',\n",
       " 4769751: 'Luke Chapter 12',\n",
       " 4777734: 'Luke Chapter 13',\n",
       " 4782848: 'Luke Chapter 14',\n",
       " 4787890: 'Luke Chapter 15',\n",
       " 4792093: 'Luke Chapter 16',\n",
       " 4797048: 'Luke Chapter 17',\n",
       " 4801972: 'Luke Chapter 18',\n",
       " 4807136: 'Luke Chapter 19',\n",
       " 4813232: 'Luke Chapter 20',\n",
       " 4818837: 'Luke Chapter 21',\n",
       " 4823481: 'Luke Chapter 22',\n",
       " 4832850: 'Luke Chapter 23',\n",
       " 4839876: 'Luke Chapter 24',\n",
       " 4846983: 'John Chapter 1',\n",
       " 4852803: 'John Chapter 2',\n",
       " 4856480: 'John Chapter 3',\n",
       " 4861569: 'John Chapter 4',\n",
       " 4868047: 'John Chapter 5',\n",
       " 4874700: 'John Chapter 6',\n",
       " 4885263: 'John Chapter 7',\n",
       " 4891077: 'John Chapter 8',\n",
       " 4898047: 'John Chapter 9',\n",
       " 4903276: 'John Chapter 10',\n",
       " 4907952: 'John Chapter 11',\n",
       " 4914639: 'John Chapter 12',\n",
       " 4921081: 'John Chapter 13',\n",
       " 4926470: 'John Chapter 14',\n",
       " 4931649: 'John Chapter 15',\n",
       " 4935240: 'John Chapter 16',\n",
       " 4940139: 'John Chapter 17',\n",
       " 4943535: 'John Chapter 18',\n",
       " 4949040: 'John Chapter 19',\n",
       " 4955321: 'John Chapter 20',\n",
       " 4960054: 'John Chapter 21',\n",
       " 4965091: 'Acts Chapter 1',\n",
       " 4968897: 'Acts Chapter 2',\n",
       " 4975659: 'Acts Chapter 3',\n",
       " 4979279: 'Acts Chapter 4',\n",
       " 4984288: 'Acts Chapter 5',\n",
       " 4990333: 'Acts Chapter 6',\n",
       " 4992598: 'Acts Chapter 7',\n",
       " 5000991: 'Acts Chapter 8',\n",
       " 5007092: 'Acts Chapter 9',\n",
       " 5013108: 'Acts Chapter 10',\n",
       " 5019995: 'Acts Chapter 11',\n",
       " 5023840: 'Acts Chapter 12',\n",
       " 5027686: 'Acts Chapter 13',\n",
       " 5035127: 'Acts Chapter 14',\n",
       " 5038986: 'Acts Chapter 15',\n",
       " 5045015: 'Acts Chapter 16',\n",
       " 5050769: 'Acts Chapter 17',\n",
       " 5056495: 'Acts Chapter 18',\n",
       " 5060444: 'Acts Chapter 19',\n",
       " 5066349: 'Acts Chapter 20',\n",
       " 5072024: 'Acts Chapter 21',\n",
       " 5078498: 'Acts Chapter 22',\n",
       " 5082931: 'Acts Chapter 23',\n",
       " 5088265: 'Acts Chapter 24',\n",
       " 5092025: 'Acts Chapter 25',\n",
       " 5096215: 'Acts Chapter 26',\n",
       " 5100868: 'Acts Chapter 27',\n",
       " 5106989: 'Acts Chapter 28',\n",
       " 5112452: 'Romans Chapter 1',\n",
       " 5117502: 'Romans Chapter 2',\n",
       " 5121256: 'Romans Chapter 3',\n",
       " 5125588: 'Romans Chapter 4',\n",
       " 5131322: 'Romans Chapter 5',\n",
       " 5134624: 'Romans Chapter 6',\n",
       " 5137724: 'Romans Chapter 7',\n",
       " 5142242: 'Romans Chapter 8',\n",
       " 5149251: 'Romans Chapter 9',\n",
       " 5156192: 'Romans Chapter 10',\n",
       " 5159746: 'Romans Chapter 11',\n",
       " 5166789: 'Romans Chapter 12',\n",
       " 5169236: 'Romans Chapter 13',\n",
       " 5171336: 'Romans Chapter 14',\n",
       " 5175448: 'Romans Chapter 15',\n",
       " 5179933: 'Romans Chapter 16',\n",
       " 5183725: '1 Corinthians Chapter 1',\n",
       " 5187775: '1 Corinthians Chapter 2',\n",
       " 5190714: '1 Corinthians Chapter 3',\n",
       " 5194697: '1 Corinthians Chapter 4',\n",
       " 5197627: '1 Corinthians Chapter 5',\n",
       " 5199499: '1 Corinthians Chapter 6',\n",
       " 5202635: '1 Corinthians Chapter 7',\n",
       " 5209596: '1 Corinthians Chapter 8',\n",
       " 5211616: '1 Corinthians Chapter 9',\n",
       " 5216024: '1 Corinthians Chapter 10',\n",
       " 5221446: '1 Corinthians Chapter 11',\n",
       " 5226953: '1 Corinthians Chapter 12',\n",
       " 5230662: '1 Corinthians Chapter 13',\n",
       " 5232269: '1 Corinthians Chapter 14',\n",
       " 5238272: '1 Corinthians Chapter 15',\n",
       " 5245715: '1 Corinthians Chapter 16',\n",
       " 5249691: '2 Corinthians Chapter 1',\n",
       " 5253472: '2 Corinthians Chapter 2',\n",
       " 5256231: '2 Corinthians Chapter 3',\n",
       " 5258628: '2 Corinthians Chapter 4',\n",
       " 5261106: '2 Corinthians Chapter 5',\n",
       " 5264621: '2 Corinthians Chapter 6',\n",
       " 5266794: '2 Corinthians Chapter 7',\n",
       " 5269446: '2 Corinthians Chapter 8',\n",
       " 5272675: '2 Corinthians Chapter 9',\n",
       " 5274845: '2 Corinthians Chapter 10',\n",
       " 5277460: '2 Corinthians Chapter 11',\n",
       " 5282066: '2 Corinthians Chapter 12',\n",
       " 5285640: '2 Corinthians Chapter 13',\n",
       " 5288157: 'Galatians Chapter 1',\n",
       " 5290893: 'Galatians Chapter 2',\n",
       " 5295236: 'Galatians Chapter 3',\n",
       " 5299445: 'Galatians Chapter 4',\n",
       " 5303506: 'Galatians Chapter 5',\n",
       " 5306273: 'Galatians Chapter 6',\n",
       " 5309301: 'Ephesians Chapter 1',\n",
       " 5312367: 'Ephesians Chapter 2',\n",
       " 5315167: 'Ephesians Chapter 3',\n",
       " 5317861: 'Ephesians Chapter 4',\n",
       " 5321785: 'Ephesians Chapter 5',\n",
       " 5325520: 'Ephesians Chapter 6',\n",
       " 5329312: 'Philippians Chapter 1',\n",
       " 5333220: 'Philippians Chapter 2',\n",
       " 5337046: 'Philippians Chapter 3',\n",
       " 5339950: 'Philippians Chapter 4',\n",
       " 5344851: 'Colossians Chapter 1',\n",
       " 5349276: 'Colossians Chapter 2',\n",
       " 5354017: 'Colossians Chapter 3',\n",
       " 5356953: 'Colossians Chapter 4',\n",
       " 5361404: '1 Thessalonians Chapter 1',\n",
       " 5362886: '1 Thessalonians Chapter 2',\n",
       " 5365994: '1 Thessalonians Chapter 3',\n",
       " 5367729: '1 Thessalonians Chapter 4',\n",
       " 5370157: '1 Thessalonians Chapter 5',\n",
       " 5373347: '2 Thessalonians Chapter 1',\n",
       " 5375150: '2 Thessalonians Chapter 2',\n",
       " 5378633: '2 Thessalonians Chapter 3',\n",
       " 5381353: '1 Timothy Chapter 1',\n",
       " 5384393: '1 Timothy Chapter 2',\n",
       " 5386609: '1 Timothy Chapter 3',\n",
       " 5389053: '1 Timothy Chapter 4',\n",
       " 5391607: '1 Timothy Chapter 5',\n",
       " 5394705: '1 Timothy Chapter 6',\n",
       " 5398155: '2 Timothy Chapter 1',\n",
       " 5400858: '2 Timothy Chapter 2',\n",
       " 5403957: '2 Timothy Chapter 3',\n",
       " 5406559: '2 Timothy Chapter 4',\n",
       " 5409856: 'Titus Chapter 1',\n",
       " 5412078: 'Titus Chapter 2',\n",
       " 5413798: 'Titus Chapter 3',\n",
       " 5416626: 'Philemon Chapter 1',\n",
       " 5420101: 'Hebrews Chapter 1',\n",
       " 5422197: 'Hebrews Chapter 2',\n",
       " 5425259: 'Hebrews Chapter 3',\n",
       " 5427440: 'Hebrews Chapter 4',\n",
       " 5429789: 'Hebrews Chapter 5',\n",
       " 5431658: 'Hebrews Chapter 6',\n",
       " 5434621: 'Hebrews Chapter 7',\n",
       " 5439296: 'Hebrews Chapter 8',\n",
       " 5442303: 'Hebrews Chapter 9',\n",
       " 5447330: 'Hebrews Chapter 10',\n",
       " 5453158: 'Hebrews Chapter 11',\n",
       " 5459404: 'Hebrews Chapter 12',\n",
       " 5463694: 'Hebrews Chapter 13',\n",
       " 5468544: 'James Chapter 1',\n",
       " 5472267: 'James Chapter 2',\n",
       " 5476547: 'James Chapter 3',\n",
       " 5478891: 'James Chapter 4',\n",
       " 5481147: 'James Chapter 5',\n",
       " 5485406: '1 Peter Chapter 1',\n",
       " 5489143: '1 Peter Chapter 2',\n",
       " 5492533: '1 Peter Chapter 3',\n",
       " 5496663: '1 Peter Chapter 4',\n",
       " 5499604: '1 Peter Chapter 5',\n",
       " 5502257: '2 Peter Chapter 1',\n",
       " 5505938: '2 Peter Chapter 2',\n",
       " 5509855: '2 Peter Chapter 3',\n",
       " 5513818: '1 John Chapter 1',\n",
       " 5515349: '1 John Chapter 2',\n",
       " 5521015: '1 John Chapter 3',\n",
       " 5524628: '1 John Chapter 4',\n",
       " 5528768: '1 John Chapter 5',\n",
       " 5536854: '2 John Chapter 1',\n",
       " 5539640: '3 John Chapter 1',\n",
       " 5542534: 'Jude Chapter 1',\n",
       " 5550271: 'Apocalypse Chapter 1',\n",
       " 5554504: 'Apocalypse Chapter 2',\n",
       " 5559301: 'Apocalypse Chapter 3',\n",
       " 5563096: 'Apocalypse Chapter 4',\n",
       " 5565269: 'Apocalypse Chapter 5',\n",
       " 5567880: 'Apocalypse Chapter 6',\n",
       " 5571569: 'Apocalypse Chapter 7',\n",
       " 5574443: 'Apocalypse Chapter 8',\n",
       " 5576856: 'Apocalypse Chapter 9',\n",
       " 5581945: 'Apocalypse Chapter 10',\n",
       " 5584122: 'Apocalypse Chapter 11',\n",
       " 5587601: 'Apocalypse Chapter 12',\n",
       " 5590946: 'Apocalypse Chapter 13',\n",
       " 5595277: 'Apocalypse Chapter 14',\n",
       " 5599577: 'Apocalypse Chapter 15',\n",
       " 5601070: 'Apocalypse Chapter 16',\n",
       " 5604321: 'Apocalypse Chapter 17',\n",
       " 5608665: 'Apocalypse Chapter 18',\n",
       " 5613090: 'Apocalypse Chapter 19',\n",
       " 5617429: 'Apocalypse Chapter 20',\n",
       " 5620820: 'Apocalypse Chapter 21',\n",
       " 5625294: 'Apocalypse Chapter 22'}"
      ]
     },
     "execution_count": 12,
     "metadata": {},
     "output_type": "execute_result"
    }
   ],
   "source": [
    "# Let's find the index of 2 Macabees\n",
    "for index, chapter in chapters.items():\n",
    "    if \"2 Machabees\" in chapter:\n",
    "        my_beloved_index = index\n",
    "\n",
    "# Here we break out our chapters in Net Test (nt) and Old Test (ot)\n",
    "nt_chapters = {index: chapter for index, chapter in chapters.items() if index > my_beloved_index}\n",
    "ot_chapters = {index: chapter for index, chapter in chapters.items() if index <= my_beloved_index}\n",
    "nt_chapters"
   ]
  },
  {
   "cell_type": "code",
   "execution_count": 34,
   "metadata": {},
   "outputs": [],
   "source": [
    "nt_grp_dict = count_books(nt_chapters)\n",
    "ot_grp_dict = count_books(ot_chapters)"
   ]
  },
  {
   "cell_type": "code",
   "execution_count": 37,
   "metadata": {},
   "outputs": [
    {
     "data": {
      "application/vnd.plotly.v1+json": {
       "config": {
        "plotlyServerURL": "https://plot.ly"
       },
       "data": [
        {
         "orientation": "h",
         "type": "bar",
         "x": [
          28,
          16,
          24,
          21,
          28,
          16,
          16,
          13,
          6,
          6,
          4,
          4,
          5,
          3,
          6,
          4,
          3,
          1,
          13,
          5,
          5,
          3,
          5,
          1,
          1,
          1,
          22
         ],
         "y": [
          "Matthew",
          "Mark",
          "Luke",
          "John",
          "Acts",
          "Romans",
          "1 Corinthians",
          "2 Corinthians",
          "Galatians",
          "Ephesians",
          "Philippians",
          "Colossians",
          "1 Thessalonians",
          "2 Thessalonians",
          "1 Timothy",
          "2 Timothy",
          "Titus",
          "Philemon",
          "Hebrews",
          "James",
          "1 Peter",
          "2 Peter",
          "1 John",
          "2 John",
          "3 John",
          "Jude",
          "Apocalypse"
         ]
        }
       ],
       "layout": {
        "height": 675,
        "margin": {
         "l": 200
        },
        "template": {
         "data": {
          "bar": [
           {
            "error_x": {
             "color": "#2a3f5f"
            },
            "error_y": {
             "color": "#2a3f5f"
            },
            "marker": {
             "line": {
              "color": "#E5ECF6",
              "width": 0.5
             },
             "pattern": {
              "fillmode": "overlay",
              "size": 10,
              "solidity": 0.2
             }
            },
            "type": "bar"
           }
          ],
          "barpolar": [
           {
            "marker": {
             "line": {
              "color": "#E5ECF6",
              "width": 0.5
             },
             "pattern": {
              "fillmode": "overlay",
              "size": 10,
              "solidity": 0.2
             }
            },
            "type": "barpolar"
           }
          ],
          "carpet": [
           {
            "aaxis": {
             "endlinecolor": "#2a3f5f",
             "gridcolor": "white",
             "linecolor": "white",
             "minorgridcolor": "white",
             "startlinecolor": "#2a3f5f"
            },
            "baxis": {
             "endlinecolor": "#2a3f5f",
             "gridcolor": "white",
             "linecolor": "white",
             "minorgridcolor": "white",
             "startlinecolor": "#2a3f5f"
            },
            "type": "carpet"
           }
          ],
          "choropleth": [
           {
            "colorbar": {
             "outlinewidth": 0,
             "ticks": ""
            },
            "type": "choropleth"
           }
          ],
          "contour": [
           {
            "colorbar": {
             "outlinewidth": 0,
             "ticks": ""
            },
            "colorscale": [
             [
              0,
              "#0d0887"
             ],
             [
              0.1111111111111111,
              "#46039f"
             ],
             [
              0.2222222222222222,
              "#7201a8"
             ],
             [
              0.3333333333333333,
              "#9c179e"
             ],
             [
              0.4444444444444444,
              "#bd3786"
             ],
             [
              0.5555555555555556,
              "#d8576b"
             ],
             [
              0.6666666666666666,
              "#ed7953"
             ],
             [
              0.7777777777777778,
              "#fb9f3a"
             ],
             [
              0.8888888888888888,
              "#fdca26"
             ],
             [
              1,
              "#f0f921"
             ]
            ],
            "type": "contour"
           }
          ],
          "contourcarpet": [
           {
            "colorbar": {
             "outlinewidth": 0,
             "ticks": ""
            },
            "type": "contourcarpet"
           }
          ],
          "heatmap": [
           {
            "colorbar": {
             "outlinewidth": 0,
             "ticks": ""
            },
            "colorscale": [
             [
              0,
              "#0d0887"
             ],
             [
              0.1111111111111111,
              "#46039f"
             ],
             [
              0.2222222222222222,
              "#7201a8"
             ],
             [
              0.3333333333333333,
              "#9c179e"
             ],
             [
              0.4444444444444444,
              "#bd3786"
             ],
             [
              0.5555555555555556,
              "#d8576b"
             ],
             [
              0.6666666666666666,
              "#ed7953"
             ],
             [
              0.7777777777777778,
              "#fb9f3a"
             ],
             [
              0.8888888888888888,
              "#fdca26"
             ],
             [
              1,
              "#f0f921"
             ]
            ],
            "type": "heatmap"
           }
          ],
          "heatmapgl": [
           {
            "colorbar": {
             "outlinewidth": 0,
             "ticks": ""
            },
            "colorscale": [
             [
              0,
              "#0d0887"
             ],
             [
              0.1111111111111111,
              "#46039f"
             ],
             [
              0.2222222222222222,
              "#7201a8"
             ],
             [
              0.3333333333333333,
              "#9c179e"
             ],
             [
              0.4444444444444444,
              "#bd3786"
             ],
             [
              0.5555555555555556,
              "#d8576b"
             ],
             [
              0.6666666666666666,
              "#ed7953"
             ],
             [
              0.7777777777777778,
              "#fb9f3a"
             ],
             [
              0.8888888888888888,
              "#fdca26"
             ],
             [
              1,
              "#f0f921"
             ]
            ],
            "type": "heatmapgl"
           }
          ],
          "histogram": [
           {
            "marker": {
             "pattern": {
              "fillmode": "overlay",
              "size": 10,
              "solidity": 0.2
             }
            },
            "type": "histogram"
           }
          ],
          "histogram2d": [
           {
            "colorbar": {
             "outlinewidth": 0,
             "ticks": ""
            },
            "colorscale": [
             [
              0,
              "#0d0887"
             ],
             [
              0.1111111111111111,
              "#46039f"
             ],
             [
              0.2222222222222222,
              "#7201a8"
             ],
             [
              0.3333333333333333,
              "#9c179e"
             ],
             [
              0.4444444444444444,
              "#bd3786"
             ],
             [
              0.5555555555555556,
              "#d8576b"
             ],
             [
              0.6666666666666666,
              "#ed7953"
             ],
             [
              0.7777777777777778,
              "#fb9f3a"
             ],
             [
              0.8888888888888888,
              "#fdca26"
             ],
             [
              1,
              "#f0f921"
             ]
            ],
            "type": "histogram2d"
           }
          ],
          "histogram2dcontour": [
           {
            "colorbar": {
             "outlinewidth": 0,
             "ticks": ""
            },
            "colorscale": [
             [
              0,
              "#0d0887"
             ],
             [
              0.1111111111111111,
              "#46039f"
             ],
             [
              0.2222222222222222,
              "#7201a8"
             ],
             [
              0.3333333333333333,
              "#9c179e"
             ],
             [
              0.4444444444444444,
              "#bd3786"
             ],
             [
              0.5555555555555556,
              "#d8576b"
             ],
             [
              0.6666666666666666,
              "#ed7953"
             ],
             [
              0.7777777777777778,
              "#fb9f3a"
             ],
             [
              0.8888888888888888,
              "#fdca26"
             ],
             [
              1,
              "#f0f921"
             ]
            ],
            "type": "histogram2dcontour"
           }
          ],
          "mesh3d": [
           {
            "colorbar": {
             "outlinewidth": 0,
             "ticks": ""
            },
            "type": "mesh3d"
           }
          ],
          "parcoords": [
           {
            "line": {
             "colorbar": {
              "outlinewidth": 0,
              "ticks": ""
             }
            },
            "type": "parcoords"
           }
          ],
          "pie": [
           {
            "automargin": true,
            "type": "pie"
           }
          ],
          "scatter": [
           {
            "fillpattern": {
             "fillmode": "overlay",
             "size": 10,
             "solidity": 0.2
            },
            "type": "scatter"
           }
          ],
          "scatter3d": [
           {
            "line": {
             "colorbar": {
              "outlinewidth": 0,
              "ticks": ""
             }
            },
            "marker": {
             "colorbar": {
              "outlinewidth": 0,
              "ticks": ""
             }
            },
            "type": "scatter3d"
           }
          ],
          "scattercarpet": [
           {
            "marker": {
             "colorbar": {
              "outlinewidth": 0,
              "ticks": ""
             }
            },
            "type": "scattercarpet"
           }
          ],
          "scattergeo": [
           {
            "marker": {
             "colorbar": {
              "outlinewidth": 0,
              "ticks": ""
             }
            },
            "type": "scattergeo"
           }
          ],
          "scattergl": [
           {
            "marker": {
             "colorbar": {
              "outlinewidth": 0,
              "ticks": ""
             }
            },
            "type": "scattergl"
           }
          ],
          "scattermapbox": [
           {
            "marker": {
             "colorbar": {
              "outlinewidth": 0,
              "ticks": ""
             }
            },
            "type": "scattermapbox"
           }
          ],
          "scatterpolar": [
           {
            "marker": {
             "colorbar": {
              "outlinewidth": 0,
              "ticks": ""
             }
            },
            "type": "scatterpolar"
           }
          ],
          "scatterpolargl": [
           {
            "marker": {
             "colorbar": {
              "outlinewidth": 0,
              "ticks": ""
             }
            },
            "type": "scatterpolargl"
           }
          ],
          "scatterternary": [
           {
            "marker": {
             "colorbar": {
              "outlinewidth": 0,
              "ticks": ""
             }
            },
            "type": "scatterternary"
           }
          ],
          "surface": [
           {
            "colorbar": {
             "outlinewidth": 0,
             "ticks": ""
            },
            "colorscale": [
             [
              0,
              "#0d0887"
             ],
             [
              0.1111111111111111,
              "#46039f"
             ],
             [
              0.2222222222222222,
              "#7201a8"
             ],
             [
              0.3333333333333333,
              "#9c179e"
             ],
             [
              0.4444444444444444,
              "#bd3786"
             ],
             [
              0.5555555555555556,
              "#d8576b"
             ],
             [
              0.6666666666666666,
              "#ed7953"
             ],
             [
              0.7777777777777778,
              "#fb9f3a"
             ],
             [
              0.8888888888888888,
              "#fdca26"
             ],
             [
              1,
              "#f0f921"
             ]
            ],
            "type": "surface"
           }
          ],
          "table": [
           {
            "cells": {
             "fill": {
              "color": "#EBF0F8"
             },
             "line": {
              "color": "white"
             }
            },
            "header": {
             "fill": {
              "color": "#C8D4E3"
             },
             "line": {
              "color": "white"
             }
            },
            "type": "table"
           }
          ]
         },
         "layout": {
          "annotationdefaults": {
           "arrowcolor": "#2a3f5f",
           "arrowhead": 0,
           "arrowwidth": 1
          },
          "autotypenumbers": "strict",
          "coloraxis": {
           "colorbar": {
            "outlinewidth": 0,
            "ticks": ""
           }
          },
          "colorscale": {
           "diverging": [
            [
             0,
             "#8e0152"
            ],
            [
             0.1,
             "#c51b7d"
            ],
            [
             0.2,
             "#de77ae"
            ],
            [
             0.3,
             "#f1b6da"
            ],
            [
             0.4,
             "#fde0ef"
            ],
            [
             0.5,
             "#f7f7f7"
            ],
            [
             0.6,
             "#e6f5d0"
            ],
            [
             0.7,
             "#b8e186"
            ],
            [
             0.8,
             "#7fbc41"
            ],
            [
             0.9,
             "#4d9221"
            ],
            [
             1,
             "#276419"
            ]
           ],
           "sequential": [
            [
             0,
             "#0d0887"
            ],
            [
             0.1111111111111111,
             "#46039f"
            ],
            [
             0.2222222222222222,
             "#7201a8"
            ],
            [
             0.3333333333333333,
             "#9c179e"
            ],
            [
             0.4444444444444444,
             "#bd3786"
            ],
            [
             0.5555555555555556,
             "#d8576b"
            ],
            [
             0.6666666666666666,
             "#ed7953"
            ],
            [
             0.7777777777777778,
             "#fb9f3a"
            ],
            [
             0.8888888888888888,
             "#fdca26"
            ],
            [
             1,
             "#f0f921"
            ]
           ],
           "sequentialminus": [
            [
             0,
             "#0d0887"
            ],
            [
             0.1111111111111111,
             "#46039f"
            ],
            [
             0.2222222222222222,
             "#7201a8"
            ],
            [
             0.3333333333333333,
             "#9c179e"
            ],
            [
             0.4444444444444444,
             "#bd3786"
            ],
            [
             0.5555555555555556,
             "#d8576b"
            ],
            [
             0.6666666666666666,
             "#ed7953"
            ],
            [
             0.7777777777777778,
             "#fb9f3a"
            ],
            [
             0.8888888888888888,
             "#fdca26"
            ],
            [
             1,
             "#f0f921"
            ]
           ]
          },
          "colorway": [
           "#636efa",
           "#EF553B",
           "#00cc96",
           "#ab63fa",
           "#FFA15A",
           "#19d3f3",
           "#FF6692",
           "#B6E880",
           "#FF97FF",
           "#FECB52"
          ],
          "font": {
           "color": "#2a3f5f"
          },
          "geo": {
           "bgcolor": "white",
           "lakecolor": "white",
           "landcolor": "#E5ECF6",
           "showlakes": true,
           "showland": true,
           "subunitcolor": "white"
          },
          "hoverlabel": {
           "align": "left"
          },
          "hovermode": "closest",
          "mapbox": {
           "style": "light"
          },
          "paper_bgcolor": "white",
          "plot_bgcolor": "#E5ECF6",
          "polar": {
           "angularaxis": {
            "gridcolor": "white",
            "linecolor": "white",
            "ticks": ""
           },
           "bgcolor": "#E5ECF6",
           "radialaxis": {
            "gridcolor": "white",
            "linecolor": "white",
            "ticks": ""
           }
          },
          "scene": {
           "xaxis": {
            "backgroundcolor": "#E5ECF6",
            "gridcolor": "white",
            "gridwidth": 2,
            "linecolor": "white",
            "showbackground": true,
            "ticks": "",
            "zerolinecolor": "white"
           },
           "yaxis": {
            "backgroundcolor": "#E5ECF6",
            "gridcolor": "white",
            "gridwidth": 2,
            "linecolor": "white",
            "showbackground": true,
            "ticks": "",
            "zerolinecolor": "white"
           },
           "zaxis": {
            "backgroundcolor": "#E5ECF6",
            "gridcolor": "white",
            "gridwidth": 2,
            "linecolor": "white",
            "showbackground": true,
            "ticks": "",
            "zerolinecolor": "white"
           }
          },
          "shapedefaults": {
           "line": {
            "color": "#2a3f5f"
           }
          },
          "ternary": {
           "aaxis": {
            "gridcolor": "white",
            "linecolor": "white",
            "ticks": ""
           },
           "baxis": {
            "gridcolor": "white",
            "linecolor": "white",
            "ticks": ""
           },
           "bgcolor": "#E5ECF6",
           "caxis": {
            "gridcolor": "white",
            "linecolor": "white",
            "ticks": ""
           }
          },
          "title": {
           "x": 0.05
          },
          "xaxis": {
           "automargin": true,
           "gridcolor": "white",
           "linecolor": "white",
           "ticks": "",
           "title": {
            "standoff": 15
           },
           "zerolinecolor": "white",
           "zerolinewidth": 2
          },
          "yaxis": {
           "automargin": true,
           "gridcolor": "white",
           "linecolor": "white",
           "ticks": "",
           "title": {
            "standoff": 15
           },
           "zerolinecolor": "white",
           "zerolinewidth": 2
          }
         }
        },
        "title": {
         "text": "New Testament books distribution by chapters"
        },
        "yaxis": {
         "automargin": true
        }
       }
      }
     },
     "metadata": {},
     "output_type": "display_data"
    }
   ],
   "source": [
    "plot_chapters_distribution(nt_grp_dict, \"New Testament books distribution by chapters\", 25)"
   ]
  },
  {
   "cell_type": "code",
   "execution_count": 38,
   "metadata": {},
   "outputs": [
    {
     "data": {
      "application/vnd.plotly.v1+json": {
       "config": {
        "plotlyServerURL": "https://plot.ly"
       },
       "data": [
        {
         "orientation": "h",
         "type": "bar",
         "x": [
          50,
          40,
          27,
          36,
          34,
          24,
          21,
          4,
          31,
          24,
          22,
          25,
          29,
          36,
          10,
          13,
          14,
          16,
          16,
          42,
          150,
          1,
          31,
          12,
          8,
          19,
          51,
          66,
          52,
          5,
          6,
          48,
          14,
          14,
          3,
          9,
          1,
          4,
          7,
          3,
          3,
          3,
          2,
          14,
          4,
          16,
          15
         ],
         "y": [
          "Genesis",
          "Exodus",
          "Leviticus",
          "Numbers",
          "Deuteronomy",
          "Josue",
          "Judges",
          "Ruth",
          "1 Kings",
          "2 Kings",
          "3 Kings",
          "4 Kings",
          "1 Paralipomenon",
          "2 Paralipomenon",
          "1 Esdras",
          "2 Esdras",
          "Tobias",
          "Judith",
          "Esther",
          "Job",
          "Psalms",
          "Psalm",
          "Proverbs",
          "Ecclesiastes",
          "Canticle of Canticles",
          "Wisdom",
          "Ecclesiasticus",
          "Isaias",
          "Jeremias",
          "Lamentations",
          "Baruch",
          "Ezechiel",
          "Daniel",
          "Osee",
          "Joel",
          "Amos",
          "Abdias",
          "Jonas",
          "Micheas",
          "Nahum",
          "Habacuc",
          "Sophonias",
          "Aggeus",
          "Zacharias",
          "Malachias",
          "1 Machabees",
          "2 Machabees"
         ]
        }
       ],
       "layout": {
        "height": 1175,
        "margin": {
         "l": 200
        },
        "template": {
         "data": {
          "bar": [
           {
            "error_x": {
             "color": "#2a3f5f"
            },
            "error_y": {
             "color": "#2a3f5f"
            },
            "marker": {
             "line": {
              "color": "#E5ECF6",
              "width": 0.5
             },
             "pattern": {
              "fillmode": "overlay",
              "size": 10,
              "solidity": 0.2
             }
            },
            "type": "bar"
           }
          ],
          "barpolar": [
           {
            "marker": {
             "line": {
              "color": "#E5ECF6",
              "width": 0.5
             },
             "pattern": {
              "fillmode": "overlay",
              "size": 10,
              "solidity": 0.2
             }
            },
            "type": "barpolar"
           }
          ],
          "carpet": [
           {
            "aaxis": {
             "endlinecolor": "#2a3f5f",
             "gridcolor": "white",
             "linecolor": "white",
             "minorgridcolor": "white",
             "startlinecolor": "#2a3f5f"
            },
            "baxis": {
             "endlinecolor": "#2a3f5f",
             "gridcolor": "white",
             "linecolor": "white",
             "minorgridcolor": "white",
             "startlinecolor": "#2a3f5f"
            },
            "type": "carpet"
           }
          ],
          "choropleth": [
           {
            "colorbar": {
             "outlinewidth": 0,
             "ticks": ""
            },
            "type": "choropleth"
           }
          ],
          "contour": [
           {
            "colorbar": {
             "outlinewidth": 0,
             "ticks": ""
            },
            "colorscale": [
             [
              0,
              "#0d0887"
             ],
             [
              0.1111111111111111,
              "#46039f"
             ],
             [
              0.2222222222222222,
              "#7201a8"
             ],
             [
              0.3333333333333333,
              "#9c179e"
             ],
             [
              0.4444444444444444,
              "#bd3786"
             ],
             [
              0.5555555555555556,
              "#d8576b"
             ],
             [
              0.6666666666666666,
              "#ed7953"
             ],
             [
              0.7777777777777778,
              "#fb9f3a"
             ],
             [
              0.8888888888888888,
              "#fdca26"
             ],
             [
              1,
              "#f0f921"
             ]
            ],
            "type": "contour"
           }
          ],
          "contourcarpet": [
           {
            "colorbar": {
             "outlinewidth": 0,
             "ticks": ""
            },
            "type": "contourcarpet"
           }
          ],
          "heatmap": [
           {
            "colorbar": {
             "outlinewidth": 0,
             "ticks": ""
            },
            "colorscale": [
             [
              0,
              "#0d0887"
             ],
             [
              0.1111111111111111,
              "#46039f"
             ],
             [
              0.2222222222222222,
              "#7201a8"
             ],
             [
              0.3333333333333333,
              "#9c179e"
             ],
             [
              0.4444444444444444,
              "#bd3786"
             ],
             [
              0.5555555555555556,
              "#d8576b"
             ],
             [
              0.6666666666666666,
              "#ed7953"
             ],
             [
              0.7777777777777778,
              "#fb9f3a"
             ],
             [
              0.8888888888888888,
              "#fdca26"
             ],
             [
              1,
              "#f0f921"
             ]
            ],
            "type": "heatmap"
           }
          ],
          "heatmapgl": [
           {
            "colorbar": {
             "outlinewidth": 0,
             "ticks": ""
            },
            "colorscale": [
             [
              0,
              "#0d0887"
             ],
             [
              0.1111111111111111,
              "#46039f"
             ],
             [
              0.2222222222222222,
              "#7201a8"
             ],
             [
              0.3333333333333333,
              "#9c179e"
             ],
             [
              0.4444444444444444,
              "#bd3786"
             ],
             [
              0.5555555555555556,
              "#d8576b"
             ],
             [
              0.6666666666666666,
              "#ed7953"
             ],
             [
              0.7777777777777778,
              "#fb9f3a"
             ],
             [
              0.8888888888888888,
              "#fdca26"
             ],
             [
              1,
              "#f0f921"
             ]
            ],
            "type": "heatmapgl"
           }
          ],
          "histogram": [
           {
            "marker": {
             "pattern": {
              "fillmode": "overlay",
              "size": 10,
              "solidity": 0.2
             }
            },
            "type": "histogram"
           }
          ],
          "histogram2d": [
           {
            "colorbar": {
             "outlinewidth": 0,
             "ticks": ""
            },
            "colorscale": [
             [
              0,
              "#0d0887"
             ],
             [
              0.1111111111111111,
              "#46039f"
             ],
             [
              0.2222222222222222,
              "#7201a8"
             ],
             [
              0.3333333333333333,
              "#9c179e"
             ],
             [
              0.4444444444444444,
              "#bd3786"
             ],
             [
              0.5555555555555556,
              "#d8576b"
             ],
             [
              0.6666666666666666,
              "#ed7953"
             ],
             [
              0.7777777777777778,
              "#fb9f3a"
             ],
             [
              0.8888888888888888,
              "#fdca26"
             ],
             [
              1,
              "#f0f921"
             ]
            ],
            "type": "histogram2d"
           }
          ],
          "histogram2dcontour": [
           {
            "colorbar": {
             "outlinewidth": 0,
             "ticks": ""
            },
            "colorscale": [
             [
              0,
              "#0d0887"
             ],
             [
              0.1111111111111111,
              "#46039f"
             ],
             [
              0.2222222222222222,
              "#7201a8"
             ],
             [
              0.3333333333333333,
              "#9c179e"
             ],
             [
              0.4444444444444444,
              "#bd3786"
             ],
             [
              0.5555555555555556,
              "#d8576b"
             ],
             [
              0.6666666666666666,
              "#ed7953"
             ],
             [
              0.7777777777777778,
              "#fb9f3a"
             ],
             [
              0.8888888888888888,
              "#fdca26"
             ],
             [
              1,
              "#f0f921"
             ]
            ],
            "type": "histogram2dcontour"
           }
          ],
          "mesh3d": [
           {
            "colorbar": {
             "outlinewidth": 0,
             "ticks": ""
            },
            "type": "mesh3d"
           }
          ],
          "parcoords": [
           {
            "line": {
             "colorbar": {
              "outlinewidth": 0,
              "ticks": ""
             }
            },
            "type": "parcoords"
           }
          ],
          "pie": [
           {
            "automargin": true,
            "type": "pie"
           }
          ],
          "scatter": [
           {
            "fillpattern": {
             "fillmode": "overlay",
             "size": 10,
             "solidity": 0.2
            },
            "type": "scatter"
           }
          ],
          "scatter3d": [
           {
            "line": {
             "colorbar": {
              "outlinewidth": 0,
              "ticks": ""
             }
            },
            "marker": {
             "colorbar": {
              "outlinewidth": 0,
              "ticks": ""
             }
            },
            "type": "scatter3d"
           }
          ],
          "scattercarpet": [
           {
            "marker": {
             "colorbar": {
              "outlinewidth": 0,
              "ticks": ""
             }
            },
            "type": "scattercarpet"
           }
          ],
          "scattergeo": [
           {
            "marker": {
             "colorbar": {
              "outlinewidth": 0,
              "ticks": ""
             }
            },
            "type": "scattergeo"
           }
          ],
          "scattergl": [
           {
            "marker": {
             "colorbar": {
              "outlinewidth": 0,
              "ticks": ""
             }
            },
            "type": "scattergl"
           }
          ],
          "scattermapbox": [
           {
            "marker": {
             "colorbar": {
              "outlinewidth": 0,
              "ticks": ""
             }
            },
            "type": "scattermapbox"
           }
          ],
          "scatterpolar": [
           {
            "marker": {
             "colorbar": {
              "outlinewidth": 0,
              "ticks": ""
             }
            },
            "type": "scatterpolar"
           }
          ],
          "scatterpolargl": [
           {
            "marker": {
             "colorbar": {
              "outlinewidth": 0,
              "ticks": ""
             }
            },
            "type": "scatterpolargl"
           }
          ],
          "scatterternary": [
           {
            "marker": {
             "colorbar": {
              "outlinewidth": 0,
              "ticks": ""
             }
            },
            "type": "scatterternary"
           }
          ],
          "surface": [
           {
            "colorbar": {
             "outlinewidth": 0,
             "ticks": ""
            },
            "colorscale": [
             [
              0,
              "#0d0887"
             ],
             [
              0.1111111111111111,
              "#46039f"
             ],
             [
              0.2222222222222222,
              "#7201a8"
             ],
             [
              0.3333333333333333,
              "#9c179e"
             ],
             [
              0.4444444444444444,
              "#bd3786"
             ],
             [
              0.5555555555555556,
              "#d8576b"
             ],
             [
              0.6666666666666666,
              "#ed7953"
             ],
             [
              0.7777777777777778,
              "#fb9f3a"
             ],
             [
              0.8888888888888888,
              "#fdca26"
             ],
             [
              1,
              "#f0f921"
             ]
            ],
            "type": "surface"
           }
          ],
          "table": [
           {
            "cells": {
             "fill": {
              "color": "#EBF0F8"
             },
             "line": {
              "color": "white"
             }
            },
            "header": {
             "fill": {
              "color": "#C8D4E3"
             },
             "line": {
              "color": "white"
             }
            },
            "type": "table"
           }
          ]
         },
         "layout": {
          "annotationdefaults": {
           "arrowcolor": "#2a3f5f",
           "arrowhead": 0,
           "arrowwidth": 1
          },
          "autotypenumbers": "strict",
          "coloraxis": {
           "colorbar": {
            "outlinewidth": 0,
            "ticks": ""
           }
          },
          "colorscale": {
           "diverging": [
            [
             0,
             "#8e0152"
            ],
            [
             0.1,
             "#c51b7d"
            ],
            [
             0.2,
             "#de77ae"
            ],
            [
             0.3,
             "#f1b6da"
            ],
            [
             0.4,
             "#fde0ef"
            ],
            [
             0.5,
             "#f7f7f7"
            ],
            [
             0.6,
             "#e6f5d0"
            ],
            [
             0.7,
             "#b8e186"
            ],
            [
             0.8,
             "#7fbc41"
            ],
            [
             0.9,
             "#4d9221"
            ],
            [
             1,
             "#276419"
            ]
           ],
           "sequential": [
            [
             0,
             "#0d0887"
            ],
            [
             0.1111111111111111,
             "#46039f"
            ],
            [
             0.2222222222222222,
             "#7201a8"
            ],
            [
             0.3333333333333333,
             "#9c179e"
            ],
            [
             0.4444444444444444,
             "#bd3786"
            ],
            [
             0.5555555555555556,
             "#d8576b"
            ],
            [
             0.6666666666666666,
             "#ed7953"
            ],
            [
             0.7777777777777778,
             "#fb9f3a"
            ],
            [
             0.8888888888888888,
             "#fdca26"
            ],
            [
             1,
             "#f0f921"
            ]
           ],
           "sequentialminus": [
            [
             0,
             "#0d0887"
            ],
            [
             0.1111111111111111,
             "#46039f"
            ],
            [
             0.2222222222222222,
             "#7201a8"
            ],
            [
             0.3333333333333333,
             "#9c179e"
            ],
            [
             0.4444444444444444,
             "#bd3786"
            ],
            [
             0.5555555555555556,
             "#d8576b"
            ],
            [
             0.6666666666666666,
             "#ed7953"
            ],
            [
             0.7777777777777778,
             "#fb9f3a"
            ],
            [
             0.8888888888888888,
             "#fdca26"
            ],
            [
             1,
             "#f0f921"
            ]
           ]
          },
          "colorway": [
           "#636efa",
           "#EF553B",
           "#00cc96",
           "#ab63fa",
           "#FFA15A",
           "#19d3f3",
           "#FF6692",
           "#B6E880",
           "#FF97FF",
           "#FECB52"
          ],
          "font": {
           "color": "#2a3f5f"
          },
          "geo": {
           "bgcolor": "white",
           "lakecolor": "white",
           "landcolor": "#E5ECF6",
           "showlakes": true,
           "showland": true,
           "subunitcolor": "white"
          },
          "hoverlabel": {
           "align": "left"
          },
          "hovermode": "closest",
          "mapbox": {
           "style": "light"
          },
          "paper_bgcolor": "white",
          "plot_bgcolor": "#E5ECF6",
          "polar": {
           "angularaxis": {
            "gridcolor": "white",
            "linecolor": "white",
            "ticks": ""
           },
           "bgcolor": "#E5ECF6",
           "radialaxis": {
            "gridcolor": "white",
            "linecolor": "white",
            "ticks": ""
           }
          },
          "scene": {
           "xaxis": {
            "backgroundcolor": "#E5ECF6",
            "gridcolor": "white",
            "gridwidth": 2,
            "linecolor": "white",
            "showbackground": true,
            "ticks": "",
            "zerolinecolor": "white"
           },
           "yaxis": {
            "backgroundcolor": "#E5ECF6",
            "gridcolor": "white",
            "gridwidth": 2,
            "linecolor": "white",
            "showbackground": true,
            "ticks": "",
            "zerolinecolor": "white"
           },
           "zaxis": {
            "backgroundcolor": "#E5ECF6",
            "gridcolor": "white",
            "gridwidth": 2,
            "linecolor": "white",
            "showbackground": true,
            "ticks": "",
            "zerolinecolor": "white"
           }
          },
          "shapedefaults": {
           "line": {
            "color": "#2a3f5f"
           }
          },
          "ternary": {
           "aaxis": {
            "gridcolor": "white",
            "linecolor": "white",
            "ticks": ""
           },
           "baxis": {
            "gridcolor": "white",
            "linecolor": "white",
            "ticks": ""
           },
           "bgcolor": "#E5ECF6",
           "caxis": {
            "gridcolor": "white",
            "linecolor": "white",
            "ticks": ""
           }
          },
          "title": {
           "x": 0.05
          },
          "xaxis": {
           "automargin": true,
           "gridcolor": "white",
           "linecolor": "white",
           "ticks": "",
           "title": {
            "standoff": 15
           },
           "zerolinecolor": "white",
           "zerolinewidth": 2
          },
          "yaxis": {
           "automargin": true,
           "gridcolor": "white",
           "linecolor": "white",
           "ticks": "",
           "title": {
            "standoff": 15
           },
           "zerolinecolor": "white",
           "zerolinewidth": 2
          }
         }
        },
        "title": {
         "text": "Old Testament books distribution by chapters"
        },
        "yaxis": {
         "automargin": true
        }
       }
      }
     },
     "metadata": {},
     "output_type": "display_data"
    }
   ],
   "source": [
    "plot_chapters_distribution(ot_grp_dict, \"Old Testament books distribution by chapters\", 25)"
   ]
  }
 ],
 "metadata": {
  "kernelspec": {
   "display_name": ".venv",
   "language": "python",
   "name": "python3"
  },
  "language_info": {
   "codemirror_mode": {
    "name": "ipython",
    "version": 3
   },
   "file_extension": ".py",
   "mimetype": "text/x-python",
   "name": "python",
   "nbconvert_exporter": "python",
   "pygments_lexer": "ipython3",
   "version": "3.8.10"
  }
 },
 "nbformat": 4,
 "nbformat_minor": 2
}
